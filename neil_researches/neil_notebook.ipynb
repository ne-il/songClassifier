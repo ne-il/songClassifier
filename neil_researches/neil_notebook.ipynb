{
 "cells": [
  {
   "cell_type": "code",
   "execution_count": 3,
   "metadata": {},
   "outputs": [],
   "source": [
    "import numpy as np\n",
    "import pandas as pd\n",
    "import sklearn"
   ]
  },
  {
   "cell_type": "code",
   "execution_count": 4,
   "metadata": {},
   "outputs": [],
   "source": [
    "song_app = pd.read_csv(\"datasets/SongApp.csv\", header=-1,)"
   ]
  },
  {
   "cell_type": "code",
   "execution_count": 59,
   "metadata": {
    "scrolled": true
   },
   "outputs": [
    {
     "data": {
      "text/plain": [
       "(463716, 92)"
      ]
     },
     "execution_count": 59,
     "metadata": {},
     "output_type": "execute_result"
    }
   ],
   "source": [
    "song_app.iloc[4, 2:]\n",
    "song_app.iloc[:10000, 1]\n",
    "song_app.shape"
   ]
  },
  {
   "cell_type": "code",
   "execution_count": 5,
   "metadata": {},
   "outputs": [
    {
     "data": {
      "text/plain": [
       "((10000, 90), (10000,))"
      ]
     },
     "execution_count": 5,
     "metadata": {},
     "output_type": "execute_result"
    }
   ],
   "source": [
    "NUMBER_OF_ENTRY = 10000\n",
    "# we remove the indezx and the year column\n",
    "X = song_app.iloc[:NUMBER_OF_ENTRY,2:]\n",
    "# we isolate the year column\n",
    "y = song_app.iloc[:NUMBER_OF_ENTRY,1]\n",
    "X.shape, y.shape"
   ]
  },
  {
   "cell_type": "markdown",
   "metadata": {},
   "source": [
    "# TECHNIQUE 1 : RANDOM FOREST CLASSIFIER"
   ]
  },
  {
   "cell_type": "code",
   "execution_count": 7,
   "metadata": {},
   "outputs": [
    {
     "name": "stdout",
     "output_type": "stream",
     "text": [
      "(7000, 90) (7000,)\n",
      "(3000, 90) (3000,)\n"
     ]
    }
   ],
   "source": [
    "from sklearn.model_selection import train_test_split,cross_val_score\n",
    "# from sklearn.cross_validation import train_test_split,cross_val_score v0.15\n",
    "from sklearn.metrics import classification_report,confusion_matrix\n",
    "from sklearn.ensemble import RandomForestClassifier\n",
    "\n",
    "X_train, X_test, y_train, y_test = train_test_split(X, y, test_size=0.3, random_state=0)\n",
    "print X_train.shape, y_train.shape\n",
    "print X_test.shape, y_test.shape"
   ]
  },
  {
   "cell_type": "code",
   "execution_count": 71,
   "metadata": {},
   "outputs": [
    {
     "name": "stderr",
     "output_type": "stream",
     "text": [
      "/Users/neil/Code/song_classifier/venv/lib/python2.7/site-packages/sklearn/model_selection/_split.py:605: Warning: The least populated class in y has only 1 members, which is too few. The minimum number of members in any class cannot be less than n_splits=5.\n",
      "  % (min_groups, self.n_splits)), Warning)\n"
     ]
    },
    {
     "data": {
      "text/plain": [
       "0.1511533050496161"
      ]
     },
     "execution_count": 71,
     "metadata": {},
     "output_type": "execute_result"
    }
   ],
   "source": [
    "clf = RandomForestClassifier(n_estimators=20)\n",
    "# scores = cross_val_score(clf, X_train, y_train, scoring='f1_weighted')\n",
    "scores = cross_val_score(clf, X_train, y_train, scoring='accuracy', cv = 5 )\n",
    "\n",
    "scores.mean()  "
   ]
  },
  {
   "cell_type": "code",
   "execution_count": 72,
   "metadata": {},
   "outputs": [],
   "source": [
    "clf.fit(X_train,y_train)\n",
    "y_pred=clf.predict(X_test)"
   ]
  },
  {
   "cell_type": "code",
   "execution_count": 73,
   "metadata": {
    "scrolled": true
   },
   "outputs": [
    {
     "name": "stdout",
     "output_type": "stream",
     "text": [
      "             precision    recall  f1-score   support\n",
      "\n",
      "       1930       0.00      0.00      0.00         1\n",
      "       1935       0.00      0.00      0.00         1\n",
      "       1941       0.00      0.00      0.00         1\n",
      "       1943       0.00      0.00      0.00         1\n",
      "       1945       0.00      0.00      0.00         1\n",
      "       1955       0.00      0.00      0.00         2\n",
      "       1958       0.00      0.00      0.00         2\n",
      "       1960       0.00      0.00      0.00         0\n",
      "       1961       0.50      0.40      0.44         5\n",
      "       1963       1.00      1.00      1.00         1\n",
      "       1964       0.00      0.00      0.00         8\n",
      "       1965       0.50      0.20      0.29        10\n",
      "       1966       0.00      0.00      0.00        19\n",
      "       1967       1.00      0.11      0.20         9\n",
      "       1968       0.00      0.00      0.00         6\n",
      "       1969       0.00      0.00      0.00        10\n",
      "       1970       0.83      0.31      0.45        16\n",
      "       1971       0.00      0.00      0.00         6\n",
      "       1972       0.31      0.29      0.30        14\n",
      "       1973       0.17      0.12      0.14         8\n",
      "       1974       0.17      0.05      0.08        19\n",
      "       1975       0.25      0.08      0.12        12\n",
      "       1976       0.40      0.13      0.20        15\n",
      "       1977       0.00      0.00      0.00        12\n",
      "       1978       0.00      0.00      0.00         7\n",
      "       1979       0.29      0.10      0.15        20\n",
      "       1980       0.33      0.17      0.22        12\n",
      "       1981       0.00      0.00      0.00        18\n",
      "       1982       0.00      0.00      0.00         9\n",
      "       1983       0.22      0.11      0.14        19\n",
      "       1984       0.00      0.00      0.00         4\n",
      "       1985       0.50      0.18      0.26        17\n",
      "       1986       0.00      0.00      0.00        10\n",
      "       1987       0.19      0.12      0.14        26\n",
      "       1988       0.24      0.23      0.23        35\n",
      "       1989       0.17      0.19      0.18        37\n",
      "       1990       0.23      0.18      0.20        38\n",
      "       1991       0.28      0.23      0.26        47\n",
      "       1992       0.21      0.18      0.19        45\n",
      "       1993       0.21      0.26      0.23        86\n",
      "       1994       0.20      0.18      0.19        66\n",
      "       1995       0.15      0.14      0.15       100\n",
      "       1996       0.21      0.18      0.19        71\n",
      "       1997       0.07      0.05      0.06        97\n",
      "       1998       0.16      0.16      0.16       109\n",
      "       1999       0.12      0.10      0.11       118\n",
      "       2000       0.13      0.13      0.13        99\n",
      "       2001       0.10      0.11      0.10       135\n",
      "       2002       0.10      0.12      0.10       147\n",
      "       2003       0.17      0.14      0.15       180\n",
      "       2004       0.17      0.29      0.22       236\n",
      "       2005       0.18      0.21      0.19       217\n",
      "       2006       0.15      0.18      0.16       214\n",
      "       2007       0.17      0.20      0.18       222\n",
      "       2008       0.19      0.21      0.20       224\n",
      "       2009       0.15      0.07      0.10       134\n",
      "       2010       0.00      0.00      0.00        22\n",
      "\n",
      "avg / total       0.17      0.16      0.16      3000\n",
      "\n"
     ]
    }
   ],
   "source": [
    "print(classification_report(y_test, y_pred))"
   ]
  },
  {
   "cell_type": "code",
   "execution_count": null,
   "metadata": {
    "scrolled": true
   },
   "outputs": [],
   "source": [
    "cm=confusion_matrix(y_pred,y_test)\n",
    "pd.DataFrame(cm)"
   ]
  },
  {
   "cell_type": "markdown",
   "metadata": {},
   "source": [
    "Plus on augmente le nombre NUMBER OF ENTRY plus les scores sont mauvais"
   ]
  },
  {
   "cell_type": "markdown",
   "metadata": {},
   "source": [
    "# ATTENTION ON CHERCHE LE MEILLEUR N_ESTIMATORS POUR RFC"
   ]
  },
  {
   "cell_type": "code",
   "execution_count": 8,
   "metadata": {},
   "outputs": [],
   "source": [
    "from sklearn.model_selection import GridSearchCV"
   ]
  },
  {
   "cell_type": "code",
   "execution_count": 22,
   "metadata": {},
   "outputs": [],
   "source": [
    "hyper_params =[{'n_estimators':[20,50,100,200,300] , 'warm_start':[True,False]}]\n",
    "searchres = GridSearchCV(RandomForestClassifier(), hyper_params, scoring='accuracy')"
   ]
  },
  {
   "cell_type": "code",
   "execution_count": 23,
   "metadata": {},
   "outputs": [
    {
     "data": {
      "text/plain": [
       "GridSearchCV(cv=None, error_score='raise',\n",
       "       estimator=RandomForestClassifier(bootstrap=True, class_weight=None, criterion='gini',\n",
       "            max_depth=None, max_features='auto', max_leaf_nodes=None,\n",
       "            min_impurity_decrease=0.0, min_impurity_split=None,\n",
       "            min_samples_leaf=1, min_samples_split=2,\n",
       "            min_weight_fraction_leaf=0.0, n_estimators=10, n_jobs=1,\n",
       "            oob_score=False, random_state=None, verbose=0,\n",
       "            warm_start=False),\n",
       "       fit_params=None, iid=True, n_jobs=1,\n",
       "       param_grid=[{'n_estimators': [20, 50, 100, 200, 300], 'warm_start': [True, False]}],\n",
       "       pre_dispatch='2*n_jobs', refit=True, return_train_score='warn',\n",
       "       scoring='accuracy', verbose=0)"
      ]
     },
     "execution_count": 23,
     "metadata": {},
     "output_type": "execute_result"
    }
   ],
   "source": [
    "searchres.fit(X_train,y_train)"
   ]
  },
  {
   "cell_type": "code",
   "execution_count": 28,
   "metadata": {},
   "outputs": [
    {
     "data": {
      "text/plain": [
       "0.211"
      ]
     },
     "execution_count": 28,
     "metadata": {},
     "output_type": "execute_result"
    }
   ],
   "source": [
    "searchres.best_score_"
   ]
  },
  {
   "cell_type": "code",
   "execution_count": 26,
   "metadata": {},
   "outputs": [
    {
     "data": {
      "text/plain": [
       "{'n_estimators': 300, 'warm_start': True}"
      ]
     },
     "execution_count": 26,
     "metadata": {},
     "output_type": "execute_result"
    }
   ],
   "source": [
    "searchres.best_params_"
   ]
  },
  {
   "cell_type": "code",
   "execution_count": null,
   "metadata": {
    "scrolled": true
   },
   "outputs": [],
   "source": []
  },
  {
   "cell_type": "code",
   "execution_count": null,
   "metadata": {},
   "outputs": [],
   "source": []
  },
  {
   "cell_type": "code",
   "execution_count": 29,
   "metadata": {},
   "outputs": [
    {
     "name": "stderr",
     "output_type": "stream",
     "text": [
      "/Users/neil/Code/song_classifier/venv/lib/python2.7/site-packages/sklearn/model_selection/_split.py:605: Warning: The least populated class in y has only 1 members, which is too few. The minimum number of members in any class cannot be less than n_splits=5.\n",
      "  % (min_groups, self.n_splits)), Warning)\n"
     ]
    },
    {
     "data": {
      "text/plain": [
       "0.22686573522021103"
      ]
     },
     "execution_count": 29,
     "metadata": {},
     "output_type": "execute_result"
    }
   ],
   "source": [
    "clf = RandomForestClassifier(n_estimators=300, warm_start=True)\n",
    "# scores = cross_val_score(clf, X_train, y_train, scoring='f1_weighted')\n",
    "scores = cross_val_score(clf, X_train, y_train, scoring='accuracy', cv = 5 )\n",
    "\n",
    "scores.mean()  "
   ]
  },
  {
   "cell_type": "markdown",
   "metadata": {},
   "source": [
    "# TECHNIQUE 2 : REGRESSION LOGISTIC"
   ]
  },
  {
   "cell_type": "code",
   "execution_count": 80,
   "metadata": {},
   "outputs": [],
   "source": [
    "from sklearn.linear_model import LogisticRegression\n",
    "lr = LogisticRegression()"
   ]
  },
  {
   "cell_type": "code",
   "execution_count": 81,
   "metadata": {},
   "outputs": [],
   "source": [
    "lr.fit(X_train,y_train)\n",
    "ylr_pred=lr.predict(X_test)"
   ]
  },
  {
   "cell_type": "code",
   "execution_count": 82,
   "metadata": {},
   "outputs": [
    {
     "name": "stdout",
     "output_type": "stream",
     "text": [
      "             precision    recall  f1-score   support\n",
      "\n",
      "       1930       0.50      1.00      0.67         1\n",
      "       1933       0.00      0.00      0.00         0\n",
      "       1935       0.00      0.00      0.00         1\n",
      "       1941       0.00      0.00      0.00         1\n",
      "       1942       0.00      0.00      0.00         0\n",
      "       1943       0.00      0.00      0.00         1\n",
      "       1945       0.00      0.00      0.00         1\n",
      "       1955       0.00      0.00      0.00         2\n",
      "       1958       0.50      0.50      0.50         2\n",
      "       1960       0.00      0.00      0.00         0\n",
      "       1961       0.12      0.60      0.20         5\n",
      "       1962       0.00      0.00      0.00         0\n",
      "       1963       0.50      1.00      0.67         1\n",
      "       1964       0.16      0.50      0.24         8\n",
      "       1965       0.09      0.10      0.10        10\n",
      "       1966       0.00      0.00      0.00        19\n",
      "       1967       0.00      0.00      0.00         9\n",
      "       1968       0.09      0.50      0.16         6\n",
      "       1969       0.00      0.00      0.00        10\n",
      "       1970       0.27      0.38      0.32        16\n",
      "       1971       0.00      0.00      0.00         6\n",
      "       1972       0.16      0.21      0.18        14\n",
      "       1973       0.09      0.12      0.11         8\n",
      "       1974       0.00      0.00      0.00        19\n",
      "       1975       0.05      0.08      0.06        12\n",
      "       1976       0.00      0.00      0.00        15\n",
      "       1977       0.00      0.00      0.00        12\n",
      "       1978       0.00      0.00      0.00         7\n",
      "       1979       0.50      0.10      0.17        20\n",
      "       1980       0.10      0.17      0.12        12\n",
      "       1981       0.08      0.06      0.07        18\n",
      "       1982       0.00      0.00      0.00         9\n",
      "       1983       0.40      0.21      0.28        19\n",
      "       1984       0.00      0.00      0.00         4\n",
      "       1985       0.11      0.12      0.11        17\n",
      "       1986       0.04      0.10      0.06        10\n",
      "       1987       0.14      0.12      0.12        26\n",
      "       1988       0.21      0.20      0.21        35\n",
      "       1989       0.19      0.24      0.21        37\n",
      "       1990       0.20      0.05      0.08        38\n",
      "       1991       0.16      0.13      0.14        47\n",
      "       1992       0.00      0.00      0.00        45\n",
      "       1993       0.24      0.14      0.18        86\n",
      "       1994       0.22      0.12      0.16        66\n",
      "       1995       0.06      0.03      0.04       100\n",
      "       1996       0.41      0.17      0.24        71\n",
      "       1997       0.10      0.05      0.07        97\n",
      "       1998       0.14      0.07      0.10       109\n",
      "       1999       0.10      0.05      0.07       118\n",
      "       2000       0.11      0.04      0.06        99\n",
      "       2001       0.07      0.05      0.06       135\n",
      "       2002       0.06      0.03      0.04       147\n",
      "       2003       0.18      0.08      0.11       180\n",
      "       2004       0.14      0.26      0.18       236\n",
      "       2005       0.09      0.10      0.09       217\n",
      "       2006       0.10      0.10      0.10       214\n",
      "       2007       0.10      0.23      0.14       222\n",
      "       2008       0.14      0.20      0.16       224\n",
      "       2009       0.10      0.06      0.08       134\n",
      "       2010       0.00      0.00      0.00        22\n",
      "\n",
      "avg / total       0.13      0.12      0.11      3000\n",
      "\n"
     ]
    }
   ],
   "source": [
    "print(classification_report(y_test, ylr_pred))"
   ]
  },
  {
   "cell_type": "code",
   "execution_count": null,
   "metadata": {},
   "outputs": [],
   "source": []
  }
 ],
 "metadata": {
  "kernelspec": {
   "display_name": "Python 2",
   "language": "python",
   "name": "python2"
  },
  "language_info": {
   "codemirror_mode": {
    "name": "ipython",
    "version": 2
   },
   "file_extension": ".py",
   "mimetype": "text/x-python",
   "name": "python",
   "nbconvert_exporter": "python",
   "pygments_lexer": "ipython2",
   "version": "2.7.10"
  }
 },
 "nbformat": 4,
 "nbformat_minor": 2
}
