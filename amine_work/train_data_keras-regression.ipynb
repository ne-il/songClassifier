{
 "cells": [
  {
   "cell_type": "code",
   "execution_count": 5,
   "metadata": {
    "scrolled": true
   },
   "outputs": [
    {
     "ename": "ImportError",
     "evalue": "cannot import name np_utils",
     "output_type": "error",
     "traceback": [
      "\u001b[0;31m---------------------------------------------------------------------------\u001b[0m",
      "\u001b[0;31mImportError\u001b[0m                               Traceback (most recent call last)",
      "\u001b[0;32m<ipython-input-5-a5da3fa88115>\u001b[0m in \u001b[0;36m<module>\u001b[0;34m()\u001b[0m\n\u001b[1;32m      4\u001b[0m \u001b[0;32mimport\u001b[0m \u001b[0mmatplotlib\u001b[0m\u001b[0;34m.\u001b[0m\u001b[0mpyplot\u001b[0m \u001b[0;32mas\u001b[0m \u001b[0mplt\u001b[0m\u001b[0;34m\u001b[0m\u001b[0m\n\u001b[1;32m      5\u001b[0m \u001b[0;32mfrom\u001b[0m \u001b[0msklearn\u001b[0m\u001b[0;34m.\u001b[0m\u001b[0mmodel_selection\u001b[0m \u001b[0;32mimport\u001b[0m \u001b[0mtrain_test_split\u001b[0m\u001b[0;34m\u001b[0m\u001b[0m\n\u001b[0;32m----> 6\u001b[0;31m \u001b[0;32mfrom\u001b[0m \u001b[0mkeras\u001b[0m\u001b[0;34m.\u001b[0m\u001b[0mmodels\u001b[0m \u001b[0;32mimport\u001b[0m \u001b[0mSequential\u001b[0m\u001b[0;34m\u001b[0m\u001b[0m\n\u001b[0m\u001b[1;32m      7\u001b[0m \u001b[0;32mfrom\u001b[0m \u001b[0mkeras\u001b[0m\u001b[0;34m.\u001b[0m\u001b[0mlayers\u001b[0m \u001b[0;32mimport\u001b[0m \u001b[0mDense\u001b[0m\u001b[0;34m\u001b[0m\u001b[0m\n\u001b[1;32m      8\u001b[0m \u001b[0;32mfrom\u001b[0m \u001b[0mkeras\u001b[0m\u001b[0;34m.\u001b[0m\u001b[0mwrappers\u001b[0m\u001b[0;34m.\u001b[0m\u001b[0mscikit_learn\u001b[0m \u001b[0;32mimport\u001b[0m \u001b[0mKerasRegressor\u001b[0m\u001b[0;34m\u001b[0m\u001b[0m\n",
      "\u001b[0;32m/Users/neil/Code/song_classifier/venv/lib/python2.7/site-packages/keras/__init__.py\u001b[0m in \u001b[0;36m<module>\u001b[0;34m()\u001b[0m\n\u001b[1;32m      1\u001b[0m \u001b[0;32mfrom\u001b[0m \u001b[0m__future__\u001b[0m \u001b[0;32mimport\u001b[0m \u001b[0mabsolute_import\u001b[0m\u001b[0;34m\u001b[0m\u001b[0m\n\u001b[1;32m      2\u001b[0m \u001b[0;34m\u001b[0m\u001b[0m\n\u001b[0;32m----> 3\u001b[0;31m \u001b[0;32mfrom\u001b[0m \u001b[0;34m.\u001b[0m \u001b[0;32mimport\u001b[0m \u001b[0mutils\u001b[0m\u001b[0;34m\u001b[0m\u001b[0m\n\u001b[0m\u001b[1;32m      4\u001b[0m \u001b[0;32mfrom\u001b[0m \u001b[0;34m.\u001b[0m \u001b[0;32mimport\u001b[0m \u001b[0mactivations\u001b[0m\u001b[0;34m\u001b[0m\u001b[0m\n\u001b[1;32m      5\u001b[0m \u001b[0;32mfrom\u001b[0m \u001b[0;34m.\u001b[0m \u001b[0;32mimport\u001b[0m \u001b[0mapplications\u001b[0m\u001b[0;34m\u001b[0m\u001b[0m\n",
      "\u001b[0;32m/Users/neil/Code/song_classifier/venv/lib/python2.7/site-packages/keras/utils/__init__.py\u001b[0m in \u001b[0;36m<module>\u001b[0;34m()\u001b[0m\n\u001b[1;32m      1\u001b[0m \u001b[0;32mfrom\u001b[0m \u001b[0m__future__\u001b[0m \u001b[0;32mimport\u001b[0m \u001b[0mabsolute_import\u001b[0m\u001b[0;34m\u001b[0m\u001b[0m\n\u001b[0;32m----> 2\u001b[0;31m \u001b[0;32mfrom\u001b[0m \u001b[0;34m.\u001b[0m \u001b[0;32mimport\u001b[0m \u001b[0mnp_utils\u001b[0m\u001b[0;34m\u001b[0m\u001b[0m\n\u001b[0m\u001b[1;32m      3\u001b[0m \u001b[0;32mfrom\u001b[0m \u001b[0;34m.\u001b[0m \u001b[0;32mimport\u001b[0m \u001b[0mgeneric_utils\u001b[0m\u001b[0;34m\u001b[0m\u001b[0m\n\u001b[1;32m      4\u001b[0m \u001b[0;32mfrom\u001b[0m \u001b[0;34m.\u001b[0m \u001b[0;32mimport\u001b[0m \u001b[0mdata_utils\u001b[0m\u001b[0;34m\u001b[0m\u001b[0m\n\u001b[1;32m      5\u001b[0m \u001b[0;32mfrom\u001b[0m \u001b[0;34m.\u001b[0m \u001b[0;32mimport\u001b[0m \u001b[0mio_utils\u001b[0m\u001b[0;34m\u001b[0m\u001b[0m\n",
      "\u001b[0;31mImportError\u001b[0m: cannot import name np_utils"
     ]
    }
   ],
   "source": [
    "import pip\n",
    "import numpy as np\n",
    "import pandas as pd\n",
    "import matplotlib.pyplot as plt\n",
    "from sklearn.model_selection import train_test_split\n",
    "from keras.models import Sequential\n",
    "from keras.layers import Dense\n",
    "from keras.wrappers.scikit_learn import KerasRegressor\n",
    "from sklearn.model_selection import cross_val_score\n",
    "from sklearn.model_selection import KFold\n",
    "from sklearn.preprocessing import StandardScaler\n",
    "from sklearn.pipeline import Pipeline"
   ]
  },
  {
   "cell_type": "code",
   "execution_count": 2,
   "metadata": {
    "collapsed": true
   },
   "outputs": [],
   "source": [
    "song_app = pd.read_csv(\"../../SongApp.csv\",header=-1,)\n"
   ]
  },
  {
   "cell_type": "code",
   "execution_count": 3,
   "metadata": {
    "collapsed": true
   },
   "outputs": [],
   "source": [
    "song_app.head()\n",
    "CUDA_VISIBLE_DEVICES=\"\""
   ]
  },
  {
   "cell_type": "code",
   "execution_count": 4,
   "metadata": {},
   "outputs": [
    {
     "data": {
      "text/plain": [
       "42661872"
      ]
     },
     "execution_count": 4,
     "metadata": {},
     "output_type": "execute_result"
    }
   ],
   "source": [
    "song_app.size"
   ]
  },
  {
   "cell_type": "code",
   "execution_count": 5,
   "metadata": {},
   "outputs": [
    {
     "data": {
      "text/plain": [
       "(463716, 92)"
      ]
     },
     "execution_count": 5,
     "metadata": {},
     "output_type": "execute_result"
    }
   ],
   "source": [
    "song_app.shape"
   ]
  },
  {
   "cell_type": "code",
   "execution_count": 6,
   "metadata": {
    "collapsed": true
   },
   "outputs": [],
   "source": [
    "# clean data\n",
    "df_song = song_app.dropna()\n",
    "df_song.__delitem__(0)"
   ]
  },
  {
   "cell_type": "code",
   "execution_count": 7,
   "metadata": {},
   "outputs": [
    {
     "data": {
      "text/html": [
       "<div>\n",
       "<style>\n",
       "    .dataframe thead tr:only-child th {\n",
       "        text-align: right;\n",
       "    }\n",
       "\n",
       "    .dataframe thead th {\n",
       "        text-align: left;\n",
       "    }\n",
       "\n",
       "    .dataframe tbody tr th {\n",
       "        vertical-align: top;\n",
       "    }\n",
       "</style>\n",
       "<table border=\"1\" class=\"dataframe\">\n",
       "  <thead>\n",
       "    <tr style=\"text-align: right;\">\n",
       "      <th></th>\n",
       "      <th>1</th>\n",
       "      <th>2</th>\n",
       "      <th>3</th>\n",
       "      <th>4</th>\n",
       "      <th>5</th>\n",
       "      <th>6</th>\n",
       "      <th>7</th>\n",
       "      <th>8</th>\n",
       "      <th>9</th>\n",
       "      <th>10</th>\n",
       "      <th>...</th>\n",
       "      <th>82</th>\n",
       "      <th>83</th>\n",
       "      <th>84</th>\n",
       "      <th>85</th>\n",
       "      <th>86</th>\n",
       "      <th>87</th>\n",
       "      <th>88</th>\n",
       "      <th>89</th>\n",
       "      <th>90</th>\n",
       "      <th>91</th>\n",
       "    </tr>\n",
       "  </thead>\n",
       "  <tbody>\n",
       "    <tr>\n",
       "      <th>1</th>\n",
       "      <td>2001</td>\n",
       "      <td>48.73215</td>\n",
       "      <td>18.42930</td>\n",
       "      <td>70.32679</td>\n",
       "      <td>12.94636</td>\n",
       "      <td>-10.32437</td>\n",
       "      <td>-24.83777</td>\n",
       "      <td>8.76630</td>\n",
       "      <td>-0.92019</td>\n",
       "      <td>18.76548</td>\n",
       "      <td>...</td>\n",
       "      <td>5.66812</td>\n",
       "      <td>-19.68073</td>\n",
       "      <td>33.04964</td>\n",
       "      <td>42.87836</td>\n",
       "      <td>-9.90378</td>\n",
       "      <td>-32.22788</td>\n",
       "      <td>70.49388</td>\n",
       "      <td>12.04941</td>\n",
       "      <td>58.43453</td>\n",
       "      <td>26.92061</td>\n",
       "    </tr>\n",
       "    <tr>\n",
       "      <th>2</th>\n",
       "      <td>2001</td>\n",
       "      <td>50.95714</td>\n",
       "      <td>31.85602</td>\n",
       "      <td>55.81851</td>\n",
       "      <td>13.41693</td>\n",
       "      <td>-6.57898</td>\n",
       "      <td>-18.54940</td>\n",
       "      <td>-3.27872</td>\n",
       "      <td>-2.35035</td>\n",
       "      <td>16.07017</td>\n",
       "      <td>...</td>\n",
       "      <td>3.03800</td>\n",
       "      <td>26.05866</td>\n",
       "      <td>-50.92779</td>\n",
       "      <td>10.93792</td>\n",
       "      <td>-0.07568</td>\n",
       "      <td>43.20130</td>\n",
       "      <td>-115.00698</td>\n",
       "      <td>-0.05859</td>\n",
       "      <td>39.67068</td>\n",
       "      <td>-0.66345</td>\n",
       "    </tr>\n",
       "    <tr>\n",
       "      <th>3</th>\n",
       "      <td>2001</td>\n",
       "      <td>48.24750</td>\n",
       "      <td>-1.89837</td>\n",
       "      <td>36.29772</td>\n",
       "      <td>2.58776</td>\n",
       "      <td>0.97170</td>\n",
       "      <td>-26.21683</td>\n",
       "      <td>5.05097</td>\n",
       "      <td>-10.34124</td>\n",
       "      <td>3.55005</td>\n",
       "      <td>...</td>\n",
       "      <td>34.57337</td>\n",
       "      <td>-171.70734</td>\n",
       "      <td>-16.96705</td>\n",
       "      <td>-46.67617</td>\n",
       "      <td>-12.51516</td>\n",
       "      <td>82.58061</td>\n",
       "      <td>-72.08993</td>\n",
       "      <td>9.90558</td>\n",
       "      <td>199.62971</td>\n",
       "      <td>18.85382</td>\n",
       "    </tr>\n",
       "    <tr>\n",
       "      <th>4</th>\n",
       "      <td>2001</td>\n",
       "      <td>50.97020</td>\n",
       "      <td>42.20998</td>\n",
       "      <td>67.09964</td>\n",
       "      <td>8.46791</td>\n",
       "      <td>-15.85279</td>\n",
       "      <td>-16.81409</td>\n",
       "      <td>-12.48207</td>\n",
       "      <td>-9.37636</td>\n",
       "      <td>12.63699</td>\n",
       "      <td>...</td>\n",
       "      <td>9.92661</td>\n",
       "      <td>-55.95724</td>\n",
       "      <td>64.92712</td>\n",
       "      <td>-17.72522</td>\n",
       "      <td>-1.49237</td>\n",
       "      <td>-7.50035</td>\n",
       "      <td>51.76631</td>\n",
       "      <td>7.88713</td>\n",
       "      <td>55.66926</td>\n",
       "      <td>28.74903</td>\n",
       "    </tr>\n",
       "    <tr>\n",
       "      <th>5</th>\n",
       "      <td>2001</td>\n",
       "      <td>50.54767</td>\n",
       "      <td>0.31568</td>\n",
       "      <td>92.35066</td>\n",
       "      <td>22.38696</td>\n",
       "      <td>-25.51870</td>\n",
       "      <td>-19.04928</td>\n",
       "      <td>20.67345</td>\n",
       "      <td>-5.19943</td>\n",
       "      <td>3.63566</td>\n",
       "      <td>...</td>\n",
       "      <td>6.59753</td>\n",
       "      <td>-50.69577</td>\n",
       "      <td>26.02574</td>\n",
       "      <td>18.94430</td>\n",
       "      <td>-0.33730</td>\n",
       "      <td>6.09352</td>\n",
       "      <td>35.18381</td>\n",
       "      <td>5.00283</td>\n",
       "      <td>-11.02257</td>\n",
       "      <td>0.02263</td>\n",
       "    </tr>\n",
       "  </tbody>\n",
       "</table>\n",
       "<p>5 rows × 91 columns</p>\n",
       "</div>"
      ],
      "text/plain": [
       "     1         2         3         4         5         6         7         8   \\\n",
       "1  2001  48.73215  18.42930  70.32679  12.94636 -10.32437 -24.83777   8.76630   \n",
       "2  2001  50.95714  31.85602  55.81851  13.41693  -6.57898 -18.54940  -3.27872   \n",
       "3  2001  48.24750  -1.89837  36.29772   2.58776   0.97170 -26.21683   5.05097   \n",
       "4  2001  50.97020  42.20998  67.09964   8.46791 -15.85279 -16.81409 -12.48207   \n",
       "5  2001  50.54767   0.31568  92.35066  22.38696 -25.51870 -19.04928  20.67345   \n",
       "\n",
       "         9         10    ...           82         83        84        85  \\\n",
       "1  -0.92019  18.76548    ...      5.66812  -19.68073  33.04964  42.87836   \n",
       "2  -2.35035  16.07017    ...      3.03800   26.05866 -50.92779  10.93792   \n",
       "3 -10.34124   3.55005    ...     34.57337 -171.70734 -16.96705 -46.67617   \n",
       "4  -9.37636  12.63699    ...      9.92661  -55.95724  64.92712 -17.72522   \n",
       "5  -5.19943   3.63566    ...      6.59753  -50.69577  26.02574  18.94430   \n",
       "\n",
       "         86        87         88        89         90        91  \n",
       "1  -9.90378 -32.22788   70.49388  12.04941   58.43453  26.92061  \n",
       "2  -0.07568  43.20130 -115.00698  -0.05859   39.67068  -0.66345  \n",
       "3 -12.51516  82.58061  -72.08993   9.90558  199.62971  18.85382  \n",
       "4  -1.49237  -7.50035   51.76631   7.88713   55.66926  28.74903  \n",
       "5  -0.33730   6.09352   35.18381   5.00283  -11.02257   0.02263  \n",
       "\n",
       "[5 rows x 91 columns]"
      ]
     },
     "execution_count": 7,
     "metadata": {},
     "output_type": "execute_result"
    }
   ],
   "source": [
    "df_song.head()"
   ]
  },
  {
   "cell_type": "code",
   "execution_count": 8,
   "metadata": {},
   "outputs": [
    {
     "data": {
      "text/plain": [
       "array([ 2001.,  2001.,  2001., ...,  2006.,  2007.,  2007.])"
      ]
     },
     "execution_count": 8,
     "metadata": {},
     "output_type": "execute_result"
    }
   ],
   "source": [
    "labels_column = df_song.iloc[0:,0]\n",
    "labels = df_song.values[0:,0]\n",
    "labels"
   ]
  },
  {
   "cell_type": "code",
   "execution_count": 9,
   "metadata": {
    "collapsed": true
   },
   "outputs": [],
   "source": [
    "df_song.__delitem__(1)"
   ]
  },
  {
   "cell_type": "code",
   "execution_count": 10,
   "metadata": {},
   "outputs": [
    {
     "name": "stderr",
     "output_type": "stream",
     "text": [
      "/home/phoenix/anaconda3/lib/python3.6/site-packages/ipykernel_launcher.py:1: SettingWithCopyWarning: \n",
      "A value is trying to be set on a copy of a slice from a DataFrame.\n",
      "Try using .loc[row_indexer,col_indexer] = value instead\n",
      "\n",
      "See the caveats in the documentation: http://pandas.pydata.org/pandas-docs/stable/indexing.html#indexing-view-versus-copy\n",
      "  \"\"\"Entry point for launching an IPython kernel.\n"
     ]
    }
   ],
   "source": [
    "df_song['labels'] = labels_column"
   ]
  },
  {
   "cell_type": "code",
   "execution_count": 11,
   "metadata": {},
   "outputs": [
    {
     "data": {
      "text/html": [
       "<div>\n",
       "<style>\n",
       "    .dataframe thead tr:only-child th {\n",
       "        text-align: right;\n",
       "    }\n",
       "\n",
       "    .dataframe thead th {\n",
       "        text-align: left;\n",
       "    }\n",
       "\n",
       "    .dataframe tbody tr th {\n",
       "        vertical-align: top;\n",
       "    }\n",
       "</style>\n",
       "<table border=\"1\" class=\"dataframe\">\n",
       "  <thead>\n",
       "    <tr style=\"text-align: right;\">\n",
       "      <th></th>\n",
       "      <th>0</th>\n",
       "      <th>1</th>\n",
       "      <th>2</th>\n",
       "      <th>3</th>\n",
       "      <th>4</th>\n",
       "      <th>5</th>\n",
       "      <th>6</th>\n",
       "      <th>7</th>\n",
       "      <th>8</th>\n",
       "      <th>9</th>\n",
       "      <th>...</th>\n",
       "      <th>81</th>\n",
       "      <th>82</th>\n",
       "      <th>83</th>\n",
       "      <th>84</th>\n",
       "      <th>85</th>\n",
       "      <th>86</th>\n",
       "      <th>87</th>\n",
       "      <th>88</th>\n",
       "      <th>89</th>\n",
       "      <th>labels</th>\n",
       "    </tr>\n",
       "  </thead>\n",
       "  <tbody>\n",
       "    <tr>\n",
       "      <th>1</th>\n",
       "      <td>48.73215</td>\n",
       "      <td>18.42930</td>\n",
       "      <td>70.32679</td>\n",
       "      <td>12.94636</td>\n",
       "      <td>-10.32437</td>\n",
       "      <td>-24.83777</td>\n",
       "      <td>8.76630</td>\n",
       "      <td>-0.92019</td>\n",
       "      <td>18.76548</td>\n",
       "      <td>4.59210</td>\n",
       "      <td>...</td>\n",
       "      <td>-19.68073</td>\n",
       "      <td>33.04964</td>\n",
       "      <td>42.87836</td>\n",
       "      <td>-9.90378</td>\n",
       "      <td>-32.22788</td>\n",
       "      <td>70.49388</td>\n",
       "      <td>12.04941</td>\n",
       "      <td>58.43453</td>\n",
       "      <td>26.92061</td>\n",
       "      <td>2001</td>\n",
       "    </tr>\n",
       "    <tr>\n",
       "      <th>2</th>\n",
       "      <td>50.95714</td>\n",
       "      <td>31.85602</td>\n",
       "      <td>55.81851</td>\n",
       "      <td>13.41693</td>\n",
       "      <td>-6.57898</td>\n",
       "      <td>-18.54940</td>\n",
       "      <td>-3.27872</td>\n",
       "      <td>-2.35035</td>\n",
       "      <td>16.07017</td>\n",
       "      <td>1.39518</td>\n",
       "      <td>...</td>\n",
       "      <td>26.05866</td>\n",
       "      <td>-50.92779</td>\n",
       "      <td>10.93792</td>\n",
       "      <td>-0.07568</td>\n",
       "      <td>43.20130</td>\n",
       "      <td>-115.00698</td>\n",
       "      <td>-0.05859</td>\n",
       "      <td>39.67068</td>\n",
       "      <td>-0.66345</td>\n",
       "      <td>2001</td>\n",
       "    </tr>\n",
       "    <tr>\n",
       "      <th>3</th>\n",
       "      <td>48.24750</td>\n",
       "      <td>-1.89837</td>\n",
       "      <td>36.29772</td>\n",
       "      <td>2.58776</td>\n",
       "      <td>0.97170</td>\n",
       "      <td>-26.21683</td>\n",
       "      <td>5.05097</td>\n",
       "      <td>-10.34124</td>\n",
       "      <td>3.55005</td>\n",
       "      <td>-6.36304</td>\n",
       "      <td>...</td>\n",
       "      <td>-171.70734</td>\n",
       "      <td>-16.96705</td>\n",
       "      <td>-46.67617</td>\n",
       "      <td>-12.51516</td>\n",
       "      <td>82.58061</td>\n",
       "      <td>-72.08993</td>\n",
       "      <td>9.90558</td>\n",
       "      <td>199.62971</td>\n",
       "      <td>18.85382</td>\n",
       "      <td>2001</td>\n",
       "    </tr>\n",
       "    <tr>\n",
       "      <th>4</th>\n",
       "      <td>50.97020</td>\n",
       "      <td>42.20998</td>\n",
       "      <td>67.09964</td>\n",
       "      <td>8.46791</td>\n",
       "      <td>-15.85279</td>\n",
       "      <td>-16.81409</td>\n",
       "      <td>-12.48207</td>\n",
       "      <td>-9.37636</td>\n",
       "      <td>12.63699</td>\n",
       "      <td>0.93609</td>\n",
       "      <td>...</td>\n",
       "      <td>-55.95724</td>\n",
       "      <td>64.92712</td>\n",
       "      <td>-17.72522</td>\n",
       "      <td>-1.49237</td>\n",
       "      <td>-7.50035</td>\n",
       "      <td>51.76631</td>\n",
       "      <td>7.88713</td>\n",
       "      <td>55.66926</td>\n",
       "      <td>28.74903</td>\n",
       "      <td>2001</td>\n",
       "    </tr>\n",
       "    <tr>\n",
       "      <th>5</th>\n",
       "      <td>50.54767</td>\n",
       "      <td>0.31568</td>\n",
       "      <td>92.35066</td>\n",
       "      <td>22.38696</td>\n",
       "      <td>-25.51870</td>\n",
       "      <td>-19.04928</td>\n",
       "      <td>20.67345</td>\n",
       "      <td>-5.19943</td>\n",
       "      <td>3.63566</td>\n",
       "      <td>-4.69088</td>\n",
       "      <td>...</td>\n",
       "      <td>-50.69577</td>\n",
       "      <td>26.02574</td>\n",
       "      <td>18.94430</td>\n",
       "      <td>-0.33730</td>\n",
       "      <td>6.09352</td>\n",
       "      <td>35.18381</td>\n",
       "      <td>5.00283</td>\n",
       "      <td>-11.02257</td>\n",
       "      <td>0.02263</td>\n",
       "      <td>2001</td>\n",
       "    </tr>\n",
       "  </tbody>\n",
       "</table>\n",
       "<p>5 rows × 91 columns</p>\n",
       "</div>"
      ],
      "text/plain": [
       "          0         1         2         3         4         5         6  \\\n",
       "1  48.73215  18.42930  70.32679  12.94636 -10.32437 -24.83777   8.76630   \n",
       "2  50.95714  31.85602  55.81851  13.41693  -6.57898 -18.54940  -3.27872   \n",
       "3  48.24750  -1.89837  36.29772   2.58776   0.97170 -26.21683   5.05097   \n",
       "4  50.97020  42.20998  67.09964   8.46791 -15.85279 -16.81409 -12.48207   \n",
       "5  50.54767   0.31568  92.35066  22.38696 -25.51870 -19.04928  20.67345   \n",
       "\n",
       "          7         8        9   ...           81        82        83  \\\n",
       "1  -0.92019  18.76548  4.59210   ...    -19.68073  33.04964  42.87836   \n",
       "2  -2.35035  16.07017  1.39518   ...     26.05866 -50.92779  10.93792   \n",
       "3 -10.34124   3.55005 -6.36304   ...   -171.70734 -16.96705 -46.67617   \n",
       "4  -9.37636  12.63699  0.93609   ...    -55.95724  64.92712 -17.72522   \n",
       "5  -5.19943   3.63566 -4.69088   ...    -50.69577  26.02574  18.94430   \n",
       "\n",
       "         84        85         86        87         88        89  labels  \n",
       "1  -9.90378 -32.22788   70.49388  12.04941   58.43453  26.92061    2001  \n",
       "2  -0.07568  43.20130 -115.00698  -0.05859   39.67068  -0.66345    2001  \n",
       "3 -12.51516  82.58061  -72.08993   9.90558  199.62971  18.85382    2001  \n",
       "4  -1.49237  -7.50035   51.76631   7.88713   55.66926  28.74903    2001  \n",
       "5  -0.33730   6.09352   35.18381   5.00283  -11.02257   0.02263    2001  \n",
       "\n",
       "[5 rows x 91 columns]"
      ]
     },
     "execution_count": 11,
     "metadata": {},
     "output_type": "execute_result"
    }
   ],
   "source": [
    "num_columns = df_song.columns.shape[0]\n",
    "columns = list(range(num_columns - 1))\n",
    "columns_name = list(map(str,columns)) + ['labels']\n",
    "df_song.columns = columns_name\n",
    "df_song.head()"
   ]
  },
  {
   "cell_type": "code",
   "execution_count": 13,
   "metadata": {},
   "outputs": [
    {
     "data": {
      "text/plain": [
       "array([ 2006.,  2005.,  2009., ...,  1995.,  2006.,  1990.])"
      ]
     },
     "execution_count": 13,
     "metadata": {},
     "output_type": "execute_result"
    }
   ],
   "source": [
    "x_data = df_song.sample(50000)\n",
    "y_data = x_data.values[0:,90]\n",
    "y_data"
   ]
  },
  {
   "cell_type": "code",
   "execution_count": 14,
   "metadata": {},
   "outputs": [
    {
     "data": {
      "text/html": [
       "<div>\n",
       "<style>\n",
       "    .dataframe thead tr:only-child th {\n",
       "        text-align: right;\n",
       "    }\n",
       "\n",
       "    .dataframe thead th {\n",
       "        text-align: left;\n",
       "    }\n",
       "\n",
       "    .dataframe tbody tr th {\n",
       "        vertical-align: top;\n",
       "    }\n",
       "</style>\n",
       "<table border=\"1\" class=\"dataframe\">\n",
       "  <thead>\n",
       "    <tr style=\"text-align: right;\">\n",
       "      <th></th>\n",
       "      <th>0</th>\n",
       "      <th>1</th>\n",
       "      <th>2</th>\n",
       "      <th>3</th>\n",
       "      <th>4</th>\n",
       "      <th>5</th>\n",
       "      <th>6</th>\n",
       "      <th>7</th>\n",
       "      <th>8</th>\n",
       "      <th>9</th>\n",
       "      <th>...</th>\n",
       "      <th>80</th>\n",
       "      <th>81</th>\n",
       "      <th>82</th>\n",
       "      <th>83</th>\n",
       "      <th>84</th>\n",
       "      <th>85</th>\n",
       "      <th>86</th>\n",
       "      <th>87</th>\n",
       "      <th>88</th>\n",
       "      <th>89</th>\n",
       "    </tr>\n",
       "  </thead>\n",
       "  <tbody>\n",
       "    <tr>\n",
       "      <th>114791</th>\n",
       "      <td>45.59051</td>\n",
       "      <td>42.06787</td>\n",
       "      <td>39.72611</td>\n",
       "      <td>27.87376</td>\n",
       "      <td>6.73239</td>\n",
       "      <td>7.91988</td>\n",
       "      <td>-11.83957</td>\n",
       "      <td>3.47484</td>\n",
       "      <td>13.51811</td>\n",
       "      <td>8.21595</td>\n",
       "      <td>...</td>\n",
       "      <td>33.09377</td>\n",
       "      <td>-109.23271</td>\n",
       "      <td>90.26132</td>\n",
       "      <td>177.36077</td>\n",
       "      <td>15.52546</td>\n",
       "      <td>46.54546</td>\n",
       "      <td>215.14015</td>\n",
       "      <td>-1.47362</td>\n",
       "      <td>-51.77191</td>\n",
       "      <td>0.88874</td>\n",
       "    </tr>\n",
       "    <tr>\n",
       "      <th>170446</th>\n",
       "      <td>41.21929</td>\n",
       "      <td>7.48728</td>\n",
       "      <td>-13.87841</td>\n",
       "      <td>3.93196</td>\n",
       "      <td>7.50054</td>\n",
       "      <td>-18.06949</td>\n",
       "      <td>7.06437</td>\n",
       "      <td>3.36844</td>\n",
       "      <td>2.91055</td>\n",
       "      <td>4.55294</td>\n",
       "      <td>...</td>\n",
       "      <td>-35.38574</td>\n",
       "      <td>-50.22039</td>\n",
       "      <td>18.25810</td>\n",
       "      <td>29.99592</td>\n",
       "      <td>-8.13865</td>\n",
       "      <td>15.47705</td>\n",
       "      <td>344.90017</td>\n",
       "      <td>7.86129</td>\n",
       "      <td>21.36647</td>\n",
       "      <td>1.12312</td>\n",
       "    </tr>\n",
       "    <tr>\n",
       "      <th>337747</th>\n",
       "      <td>51.23714</td>\n",
       "      <td>48.53738</td>\n",
       "      <td>57.53652</td>\n",
       "      <td>28.08185</td>\n",
       "      <td>-12.98128</td>\n",
       "      <td>-1.30023</td>\n",
       "      <td>6.63941</td>\n",
       "      <td>1.97967</td>\n",
       "      <td>1.85686</td>\n",
       "      <td>10.33589</td>\n",
       "      <td>...</td>\n",
       "      <td>-10.10465</td>\n",
       "      <td>-65.92688</td>\n",
       "      <td>104.77308</td>\n",
       "      <td>78.77191</td>\n",
       "      <td>-13.46322</td>\n",
       "      <td>72.78617</td>\n",
       "      <td>-71.77182</td>\n",
       "      <td>7.58393</td>\n",
       "      <td>179.23668</td>\n",
       "      <td>-4.45921</td>\n",
       "    </tr>\n",
       "    <tr>\n",
       "      <th>49719</th>\n",
       "      <td>41.60582</td>\n",
       "      <td>117.21378</td>\n",
       "      <td>-10.72843</td>\n",
       "      <td>-16.63562</td>\n",
       "      <td>-28.32313</td>\n",
       "      <td>-18.29677</td>\n",
       "      <td>-41.34251</td>\n",
       "      <td>-5.44953</td>\n",
       "      <td>14.50211</td>\n",
       "      <td>13.16637</td>\n",
       "      <td>...</td>\n",
       "      <td>-5.62751</td>\n",
       "      <td>-27.14093</td>\n",
       "      <td>1.28082</td>\n",
       "      <td>91.21903</td>\n",
       "      <td>2.83053</td>\n",
       "      <td>14.45348</td>\n",
       "      <td>-9.08064</td>\n",
       "      <td>5.76369</td>\n",
       "      <td>-38.50147</td>\n",
       "      <td>11.44578</td>\n",
       "    </tr>\n",
       "    <tr>\n",
       "      <th>101611</th>\n",
       "      <td>39.47102</td>\n",
       "      <td>-55.66652</td>\n",
       "      <td>-15.79422</td>\n",
       "      <td>-7.91305</td>\n",
       "      <td>16.39545</td>\n",
       "      <td>8.73369</td>\n",
       "      <td>10.16690</td>\n",
       "      <td>-1.99703</td>\n",
       "      <td>2.34454</td>\n",
       "      <td>-1.35384</td>\n",
       "      <td>...</td>\n",
       "      <td>6.48487</td>\n",
       "      <td>40.88504</td>\n",
       "      <td>50.71887</td>\n",
       "      <td>267.79105</td>\n",
       "      <td>2.50387</td>\n",
       "      <td>56.42598</td>\n",
       "      <td>81.58127</td>\n",
       "      <td>22.15831</td>\n",
       "      <td>194.95616</td>\n",
       "      <td>16.94858</td>\n",
       "    </tr>\n",
       "  </tbody>\n",
       "</table>\n",
       "<p>5 rows × 90 columns</p>\n",
       "</div>"
      ],
      "text/plain": [
       "               0          1         2         3         4         5         6  \\\n",
       "114791  45.59051   42.06787  39.72611  27.87376   6.73239   7.91988 -11.83957   \n",
       "170446  41.21929    7.48728 -13.87841   3.93196   7.50054 -18.06949   7.06437   \n",
       "337747  51.23714   48.53738  57.53652  28.08185 -12.98128  -1.30023   6.63941   \n",
       "49719   41.60582  117.21378 -10.72843 -16.63562 -28.32313 -18.29677 -41.34251   \n",
       "101611  39.47102  -55.66652 -15.79422  -7.91305  16.39545   8.73369  10.16690   \n",
       "\n",
       "              7         8         9    ...           80         81         82  \\\n",
       "114791  3.47484  13.51811   8.21595    ...     33.09377 -109.23271   90.26132   \n",
       "170446  3.36844   2.91055   4.55294    ...    -35.38574  -50.22039   18.25810   \n",
       "337747  1.97967   1.85686  10.33589    ...    -10.10465  -65.92688  104.77308   \n",
       "49719  -5.44953  14.50211  13.16637    ...     -5.62751  -27.14093    1.28082   \n",
       "101611 -1.99703   2.34454  -1.35384    ...      6.48487   40.88504   50.71887   \n",
       "\n",
       "               83        84        85         86        87         88  \\\n",
       "114791  177.36077  15.52546  46.54546  215.14015  -1.47362  -51.77191   \n",
       "170446   29.99592  -8.13865  15.47705  344.90017   7.86129   21.36647   \n",
       "337747   78.77191 -13.46322  72.78617  -71.77182   7.58393  179.23668   \n",
       "49719    91.21903   2.83053  14.45348   -9.08064   5.76369  -38.50147   \n",
       "101611  267.79105   2.50387  56.42598   81.58127  22.15831  194.95616   \n",
       "\n",
       "              89  \n",
       "114791   0.88874  \n",
       "170446   1.12312  \n",
       "337747  -4.45921  \n",
       "49719   11.44578  \n",
       "101611  16.94858  \n",
       "\n",
       "[5 rows x 90 columns]"
      ]
     },
     "execution_count": 14,
     "metadata": {},
     "output_type": "execute_result"
    }
   ],
   "source": [
    "x_data.__delitem__('labels')\n",
    "x_data.head()"
   ]
  },
  {
   "cell_type": "code",
   "execution_count": 15,
   "metadata": {},
   "outputs": [
    {
     "name": "stdout",
     "output_type": "stream",
     "text": [
      "(45000, 90)\n",
      "(5000, 90)\n",
      "(45000,)\n",
      "(5000,)\n"
     ]
    }
   ],
   "source": [
    "# split into training and test data\n",
    "X_train, X_test, y_train, y_test = train_test_split(x_data, y_data, test_size=0.1, random_state=42)\n",
    "print(X_train.shape)\n",
    "print(X_test.shape)\n",
    "print(y_train.shape)\n",
    "print(y_test.shape)"
   ]
  },
  {
   "cell_type": "code",
   "execution_count": 16,
   "metadata": {},
   "outputs": [
    {
     "data": {
      "text/plain": [
       "(45000, 90)"
      ]
     },
     "execution_count": 16,
     "metadata": {},
     "output_type": "execute_result"
    }
   ],
   "source": [
    "def baseline_model():\n",
    "    # create model\n",
    "    model = Sequential()\n",
    "    model.add(Dense(y_train.shape[0], input_dim=X_train.shape[1], kernel_initializer='normal', activation='relu'))\n",
    "    model.add(Dense(1, kernel_initializer='normal'))\n",
    "    # Compile model\n",
    "    model.compile(loss='mean_squared_error', optimizer='adam')\n",
    "    return model\n",
    "X_train.shape"
   ]
  },
  {
   "cell_type": "code",
   "execution_count": 17,
   "metadata": {
    "collapsed": true
   },
   "outputs": [],
   "source": [
    "# fix random seed for reproducibility\n",
    "seed = 7\n",
    "np.random.seed(seed)\n",
    "# evaluate model with standardized dataset\n",
    "estimator = KerasRegressor(build_fn=baseline_model, nb_epoch=2, batch_size=2, verbose=0)"
   ]
  },
  {
   "cell_type": "code",
   "execution_count": 18,
   "metadata": {},
   "outputs": [
    {
     "name": "stdout",
     "output_type": "stream",
     "text": [
      "Results: -366200.21 (223817.43) MSE\n"
     ]
    }
   ],
   "source": [
    "kfold = KFold(n_splits=5, random_state=seed)\n",
    "results = cross_val_score(estimator, X_train, y_train, cv=kfold)\n",
    "print(\"Results: %.2f (%.2f) MSE\" % (results.mean(), results.std()))"
   ]
  },
  {
   "cell_type": "code",
   "execution_count": null,
   "metadata": {
    "collapsed": true
   },
   "outputs": [],
   "source": []
  },
  {
   "cell_type": "code",
   "execution_count": null,
   "metadata": {
    "collapsed": true
   },
   "outputs": [],
   "source": []
  },
  {
   "cell_type": "code",
   "execution_count": null,
   "metadata": {
    "collapsed": true
   },
   "outputs": [],
   "source": []
  },
  {
   "cell_type": "code",
   "execution_count": null,
   "metadata": {
    "collapsed": true
   },
   "outputs": [],
   "source": []
  },
  {
   "cell_type": "code",
   "execution_count": null,
   "metadata": {
    "collapsed": true
   },
   "outputs": [],
   "source": []
  },
  {
   "cell_type": "code",
   "execution_count": null,
   "metadata": {
    "collapsed": true
   },
   "outputs": [],
   "source": []
  },
  {
   "cell_type": "code",
   "execution_count": null,
   "metadata": {
    "collapsed": true
   },
   "outputs": [],
   "source": []
  },
  {
   "cell_type": "code",
   "execution_count": null,
   "metadata": {
    "collapsed": true
   },
   "outputs": [],
   "source": []
  }
 ],
 "metadata": {
  "kernelspec": {
   "display_name": "Python 2",
   "language": "python",
   "name": "python2"
  },
  "language_info": {
   "codemirror_mode": {
    "name": "ipython",
    "version": 2
   },
   "file_extension": ".py",
   "mimetype": "text/x-python",
   "name": "python",
   "nbconvert_exporter": "python",
   "pygments_lexer": "ipython2",
   "version": "2.7.10"
  }
 },
 "nbformat": 4,
 "nbformat_minor": 2
}
