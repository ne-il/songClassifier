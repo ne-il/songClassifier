{
 "cells": [
  {
   "cell_type": "code",
   "execution_count": 17,
   "metadata": {
    "collapsed": true,
    "scrolled": true
   },
   "outputs": [],
   "source": [
    "import pip\n",
    "import numpy as np\n",
    "import pandas as pd\n",
    "import tabulate\n",
    "import matplotlib.pyplot as plt\n",
    "from sklearn.model_selection import train_test_split\n",
    "from sklearn.ensemble import RandomForestClassifier\n",
    "from sklearn.ensemble import ExtraTreesClassifier\n",
    "from sklearn.decomposition import PCA"
   ]
  },
  {
   "cell_type": "code",
   "execution_count": 2,
   "metadata": {
    "collapsed": true
   },
   "outputs": [],
   "source": [
    "song_app = pd.read_csv(\"../../SongApp.csv\",header=-1,)"
   ]
  },
  {
   "cell_type": "code",
   "execution_count": 3,
   "metadata": {},
   "outputs": [
    {
     "data": {
      "text/html": [
       "<div>\n",
       "<style>\n",
       "    .dataframe thead tr:only-child th {\n",
       "        text-align: right;\n",
       "    }\n",
       "\n",
       "    .dataframe thead th {\n",
       "        text-align: left;\n",
       "    }\n",
       "\n",
       "    .dataframe tbody tr th {\n",
       "        vertical-align: top;\n",
       "    }\n",
       "</style>\n",
       "<table border=\"1\" class=\"dataframe\">\n",
       "  <thead>\n",
       "    <tr style=\"text-align: right;\">\n",
       "      <th></th>\n",
       "      <th>0</th>\n",
       "      <th>1</th>\n",
       "      <th>2</th>\n",
       "      <th>3</th>\n",
       "      <th>4</th>\n",
       "      <th>5</th>\n",
       "      <th>6</th>\n",
       "      <th>7</th>\n",
       "      <th>8</th>\n",
       "      <th>9</th>\n",
       "      <th>...</th>\n",
       "      <th>82</th>\n",
       "      <th>83</th>\n",
       "      <th>84</th>\n",
       "      <th>85</th>\n",
       "      <th>86</th>\n",
       "      <th>87</th>\n",
       "      <th>88</th>\n",
       "      <th>89</th>\n",
       "      <th>90</th>\n",
       "      <th>91</th>\n",
       "    </tr>\n",
       "  </thead>\n",
       "  <tbody>\n",
       "    <tr>\n",
       "      <th>0</th>\n",
       "      <td>NaN</td>\n",
       "      <td>2001</td>\n",
       "      <td>49.94357</td>\n",
       "      <td>21.47114</td>\n",
       "      <td>73.07750</td>\n",
       "      <td>8.74861</td>\n",
       "      <td>-17.40628</td>\n",
       "      <td>-13.09905</td>\n",
       "      <td>-25.01202</td>\n",
       "      <td>-12.23257</td>\n",
       "      <td>...</td>\n",
       "      <td>13.01620</td>\n",
       "      <td>-54.40548</td>\n",
       "      <td>58.99367</td>\n",
       "      <td>15.37344</td>\n",
       "      <td>1.11144</td>\n",
       "      <td>-23.08793</td>\n",
       "      <td>68.40795</td>\n",
       "      <td>-1.82223</td>\n",
       "      <td>-27.46348</td>\n",
       "      <td>2.26327</td>\n",
       "    </tr>\n",
       "    <tr>\n",
       "      <th>1</th>\n",
       "      <td>0.0</td>\n",
       "      <td>2001</td>\n",
       "      <td>48.73215</td>\n",
       "      <td>18.42930</td>\n",
       "      <td>70.32679</td>\n",
       "      <td>12.94636</td>\n",
       "      <td>-10.32437</td>\n",
       "      <td>-24.83777</td>\n",
       "      <td>8.76630</td>\n",
       "      <td>-0.92019</td>\n",
       "      <td>...</td>\n",
       "      <td>5.66812</td>\n",
       "      <td>-19.68073</td>\n",
       "      <td>33.04964</td>\n",
       "      <td>42.87836</td>\n",
       "      <td>-9.90378</td>\n",
       "      <td>-32.22788</td>\n",
       "      <td>70.49388</td>\n",
       "      <td>12.04941</td>\n",
       "      <td>58.43453</td>\n",
       "      <td>26.92061</td>\n",
       "    </tr>\n",
       "    <tr>\n",
       "      <th>2</th>\n",
       "      <td>1.0</td>\n",
       "      <td>2001</td>\n",
       "      <td>50.95714</td>\n",
       "      <td>31.85602</td>\n",
       "      <td>55.81851</td>\n",
       "      <td>13.41693</td>\n",
       "      <td>-6.57898</td>\n",
       "      <td>-18.54940</td>\n",
       "      <td>-3.27872</td>\n",
       "      <td>-2.35035</td>\n",
       "      <td>...</td>\n",
       "      <td>3.03800</td>\n",
       "      <td>26.05866</td>\n",
       "      <td>-50.92779</td>\n",
       "      <td>10.93792</td>\n",
       "      <td>-0.07568</td>\n",
       "      <td>43.20130</td>\n",
       "      <td>-115.00698</td>\n",
       "      <td>-0.05859</td>\n",
       "      <td>39.67068</td>\n",
       "      <td>-0.66345</td>\n",
       "    </tr>\n",
       "    <tr>\n",
       "      <th>3</th>\n",
       "      <td>2.0</td>\n",
       "      <td>2001</td>\n",
       "      <td>48.24750</td>\n",
       "      <td>-1.89837</td>\n",
       "      <td>36.29772</td>\n",
       "      <td>2.58776</td>\n",
       "      <td>0.97170</td>\n",
       "      <td>-26.21683</td>\n",
       "      <td>5.05097</td>\n",
       "      <td>-10.34124</td>\n",
       "      <td>...</td>\n",
       "      <td>34.57337</td>\n",
       "      <td>-171.70734</td>\n",
       "      <td>-16.96705</td>\n",
       "      <td>-46.67617</td>\n",
       "      <td>-12.51516</td>\n",
       "      <td>82.58061</td>\n",
       "      <td>-72.08993</td>\n",
       "      <td>9.90558</td>\n",
       "      <td>199.62971</td>\n",
       "      <td>18.85382</td>\n",
       "    </tr>\n",
       "    <tr>\n",
       "      <th>4</th>\n",
       "      <td>3.0</td>\n",
       "      <td>2001</td>\n",
       "      <td>50.97020</td>\n",
       "      <td>42.20998</td>\n",
       "      <td>67.09964</td>\n",
       "      <td>8.46791</td>\n",
       "      <td>-15.85279</td>\n",
       "      <td>-16.81409</td>\n",
       "      <td>-12.48207</td>\n",
       "      <td>-9.37636</td>\n",
       "      <td>...</td>\n",
       "      <td>9.92661</td>\n",
       "      <td>-55.95724</td>\n",
       "      <td>64.92712</td>\n",
       "      <td>-17.72522</td>\n",
       "      <td>-1.49237</td>\n",
       "      <td>-7.50035</td>\n",
       "      <td>51.76631</td>\n",
       "      <td>7.88713</td>\n",
       "      <td>55.66926</td>\n",
       "      <td>28.74903</td>\n",
       "    </tr>\n",
       "  </tbody>\n",
       "</table>\n",
       "<p>5 rows × 92 columns</p>\n",
       "</div>"
      ],
      "text/plain": [
       "    0     1         2         3         4         5         6         7   \\\n",
       "0  NaN  2001  49.94357  21.47114  73.07750   8.74861 -17.40628 -13.09905   \n",
       "1  0.0  2001  48.73215  18.42930  70.32679  12.94636 -10.32437 -24.83777   \n",
       "2  1.0  2001  50.95714  31.85602  55.81851  13.41693  -6.57898 -18.54940   \n",
       "3  2.0  2001  48.24750  -1.89837  36.29772   2.58776   0.97170 -26.21683   \n",
       "4  3.0  2001  50.97020  42.20998  67.09964   8.46791 -15.85279 -16.81409   \n",
       "\n",
       "         8         9     ...           82         83        84        85  \\\n",
       "0 -25.01202 -12.23257    ...     13.01620  -54.40548  58.99367  15.37344   \n",
       "1   8.76630  -0.92019    ...      5.66812  -19.68073  33.04964  42.87836   \n",
       "2  -3.27872  -2.35035    ...      3.03800   26.05866 -50.92779  10.93792   \n",
       "3   5.05097 -10.34124    ...     34.57337 -171.70734 -16.96705 -46.67617   \n",
       "4 -12.48207  -9.37636    ...      9.92661  -55.95724  64.92712 -17.72522   \n",
       "\n",
       "         86        87         88        89         90        91  \n",
       "0   1.11144 -23.08793   68.40795  -1.82223  -27.46348   2.26327  \n",
       "1  -9.90378 -32.22788   70.49388  12.04941   58.43453  26.92061  \n",
       "2  -0.07568  43.20130 -115.00698  -0.05859   39.67068  -0.66345  \n",
       "3 -12.51516  82.58061  -72.08993   9.90558  199.62971  18.85382  \n",
       "4  -1.49237  -7.50035   51.76631   7.88713   55.66926  28.74903  \n",
       "\n",
       "[5 rows x 92 columns]"
      ]
     },
     "execution_count": 3,
     "metadata": {},
     "output_type": "execute_result"
    }
   ],
   "source": [
    "song_app.head()"
   ]
  },
  {
   "cell_type": "code",
   "execution_count": 4,
   "metadata": {},
   "outputs": [
    {
     "data": {
      "text/plain": [
       "42661872"
      ]
     },
     "execution_count": 4,
     "metadata": {},
     "output_type": "execute_result"
    }
   ],
   "source": [
    "song_app.size"
   ]
  },
  {
   "cell_type": "code",
   "execution_count": 6,
   "metadata": {},
   "outputs": [
    {
     "data": {
      "text/plain": [
       "(463716, 92)"
      ]
     },
     "execution_count": 6,
     "metadata": {},
     "output_type": "execute_result"
    }
   ],
   "source": [
    "song_app.shape"
   ]
  },
  {
   "cell_type": "code",
   "execution_count": 5,
   "metadata": {
    "collapsed": true
   },
   "outputs": [],
   "source": [
    "# clean data\n",
    "song_app = song_app.dropna()\n",
    "song_app.__delitem__(0)"
   ]
  },
  {
   "cell_type": "code",
   "execution_count": 6,
   "metadata": {
    "collapsed": true
   },
   "outputs": [],
   "source": [
    "labels_column = song_app.iloc[:,0:1]\n",
    "song_app.head()\n",
    "song_app.__delitem__(1)"
   ]
  },
  {
   "cell_type": "code",
   "execution_count": 7,
   "metadata": {
    "collapsed": true
   },
   "outputs": [],
   "source": [
    "song_app['labels'] = labels_column"
   ]
  },
  {
   "cell_type": "code",
   "execution_count": 8,
   "metadata": {},
   "outputs": [
    {
     "data": {
      "text/html": [
       "<div>\n",
       "<style>\n",
       "    .dataframe thead tr:only-child th {\n",
       "        text-align: right;\n",
       "    }\n",
       "\n",
       "    .dataframe thead th {\n",
       "        text-align: left;\n",
       "    }\n",
       "\n",
       "    .dataframe tbody tr th {\n",
       "        vertical-align: top;\n",
       "    }\n",
       "</style>\n",
       "<table border=\"1\" class=\"dataframe\">\n",
       "  <thead>\n",
       "    <tr style=\"text-align: right;\">\n",
       "      <th></th>\n",
       "      <th>0</th>\n",
       "      <th>1</th>\n",
       "      <th>2</th>\n",
       "      <th>3</th>\n",
       "      <th>4</th>\n",
       "      <th>5</th>\n",
       "      <th>6</th>\n",
       "      <th>7</th>\n",
       "      <th>8</th>\n",
       "      <th>9</th>\n",
       "      <th>...</th>\n",
       "      <th>81</th>\n",
       "      <th>82</th>\n",
       "      <th>83</th>\n",
       "      <th>84</th>\n",
       "      <th>85</th>\n",
       "      <th>86</th>\n",
       "      <th>87</th>\n",
       "      <th>88</th>\n",
       "      <th>89</th>\n",
       "      <th>labels</th>\n",
       "    </tr>\n",
       "  </thead>\n",
       "  <tbody>\n",
       "    <tr>\n",
       "      <th>1</th>\n",
       "      <td>48.73215</td>\n",
       "      <td>18.42930</td>\n",
       "      <td>70.32679</td>\n",
       "      <td>12.94636</td>\n",
       "      <td>-10.32437</td>\n",
       "      <td>-24.83777</td>\n",
       "      <td>8.76630</td>\n",
       "      <td>-0.92019</td>\n",
       "      <td>18.76548</td>\n",
       "      <td>4.59210</td>\n",
       "      <td>...</td>\n",
       "      <td>-19.68073</td>\n",
       "      <td>33.04964</td>\n",
       "      <td>42.87836</td>\n",
       "      <td>-9.90378</td>\n",
       "      <td>-32.22788</td>\n",
       "      <td>70.49388</td>\n",
       "      <td>12.04941</td>\n",
       "      <td>58.43453</td>\n",
       "      <td>26.92061</td>\n",
       "      <td>2001</td>\n",
       "    </tr>\n",
       "    <tr>\n",
       "      <th>2</th>\n",
       "      <td>50.95714</td>\n",
       "      <td>31.85602</td>\n",
       "      <td>55.81851</td>\n",
       "      <td>13.41693</td>\n",
       "      <td>-6.57898</td>\n",
       "      <td>-18.54940</td>\n",
       "      <td>-3.27872</td>\n",
       "      <td>-2.35035</td>\n",
       "      <td>16.07017</td>\n",
       "      <td>1.39518</td>\n",
       "      <td>...</td>\n",
       "      <td>26.05866</td>\n",
       "      <td>-50.92779</td>\n",
       "      <td>10.93792</td>\n",
       "      <td>-0.07568</td>\n",
       "      <td>43.20130</td>\n",
       "      <td>-115.00698</td>\n",
       "      <td>-0.05859</td>\n",
       "      <td>39.67068</td>\n",
       "      <td>-0.66345</td>\n",
       "      <td>2001</td>\n",
       "    </tr>\n",
       "    <tr>\n",
       "      <th>3</th>\n",
       "      <td>48.24750</td>\n",
       "      <td>-1.89837</td>\n",
       "      <td>36.29772</td>\n",
       "      <td>2.58776</td>\n",
       "      <td>0.97170</td>\n",
       "      <td>-26.21683</td>\n",
       "      <td>5.05097</td>\n",
       "      <td>-10.34124</td>\n",
       "      <td>3.55005</td>\n",
       "      <td>-6.36304</td>\n",
       "      <td>...</td>\n",
       "      <td>-171.70734</td>\n",
       "      <td>-16.96705</td>\n",
       "      <td>-46.67617</td>\n",
       "      <td>-12.51516</td>\n",
       "      <td>82.58061</td>\n",
       "      <td>-72.08993</td>\n",
       "      <td>9.90558</td>\n",
       "      <td>199.62971</td>\n",
       "      <td>18.85382</td>\n",
       "      <td>2001</td>\n",
       "    </tr>\n",
       "    <tr>\n",
       "      <th>4</th>\n",
       "      <td>50.97020</td>\n",
       "      <td>42.20998</td>\n",
       "      <td>67.09964</td>\n",
       "      <td>8.46791</td>\n",
       "      <td>-15.85279</td>\n",
       "      <td>-16.81409</td>\n",
       "      <td>-12.48207</td>\n",
       "      <td>-9.37636</td>\n",
       "      <td>12.63699</td>\n",
       "      <td>0.93609</td>\n",
       "      <td>...</td>\n",
       "      <td>-55.95724</td>\n",
       "      <td>64.92712</td>\n",
       "      <td>-17.72522</td>\n",
       "      <td>-1.49237</td>\n",
       "      <td>-7.50035</td>\n",
       "      <td>51.76631</td>\n",
       "      <td>7.88713</td>\n",
       "      <td>55.66926</td>\n",
       "      <td>28.74903</td>\n",
       "      <td>2001</td>\n",
       "    </tr>\n",
       "    <tr>\n",
       "      <th>5</th>\n",
       "      <td>50.54767</td>\n",
       "      <td>0.31568</td>\n",
       "      <td>92.35066</td>\n",
       "      <td>22.38696</td>\n",
       "      <td>-25.51870</td>\n",
       "      <td>-19.04928</td>\n",
       "      <td>20.67345</td>\n",
       "      <td>-5.19943</td>\n",
       "      <td>3.63566</td>\n",
       "      <td>-4.69088</td>\n",
       "      <td>...</td>\n",
       "      <td>-50.69577</td>\n",
       "      <td>26.02574</td>\n",
       "      <td>18.94430</td>\n",
       "      <td>-0.33730</td>\n",
       "      <td>6.09352</td>\n",
       "      <td>35.18381</td>\n",
       "      <td>5.00283</td>\n",
       "      <td>-11.02257</td>\n",
       "      <td>0.02263</td>\n",
       "      <td>2001</td>\n",
       "    </tr>\n",
       "  </tbody>\n",
       "</table>\n",
       "<p>5 rows × 91 columns</p>\n",
       "</div>"
      ],
      "text/plain": [
       "          0         1         2         3         4         5         6  \\\n",
       "1  48.73215  18.42930  70.32679  12.94636 -10.32437 -24.83777   8.76630   \n",
       "2  50.95714  31.85602  55.81851  13.41693  -6.57898 -18.54940  -3.27872   \n",
       "3  48.24750  -1.89837  36.29772   2.58776   0.97170 -26.21683   5.05097   \n",
       "4  50.97020  42.20998  67.09964   8.46791 -15.85279 -16.81409 -12.48207   \n",
       "5  50.54767   0.31568  92.35066  22.38696 -25.51870 -19.04928  20.67345   \n",
       "\n",
       "          7         8        9   ...           81        82        83  \\\n",
       "1  -0.92019  18.76548  4.59210   ...    -19.68073  33.04964  42.87836   \n",
       "2  -2.35035  16.07017  1.39518   ...     26.05866 -50.92779  10.93792   \n",
       "3 -10.34124   3.55005 -6.36304   ...   -171.70734 -16.96705 -46.67617   \n",
       "4  -9.37636  12.63699  0.93609   ...    -55.95724  64.92712 -17.72522   \n",
       "5  -5.19943   3.63566 -4.69088   ...    -50.69577  26.02574  18.94430   \n",
       "\n",
       "         84        85         86        87         88        89  labels  \n",
       "1  -9.90378 -32.22788   70.49388  12.04941   58.43453  26.92061    2001  \n",
       "2  -0.07568  43.20130 -115.00698  -0.05859   39.67068  -0.66345    2001  \n",
       "3 -12.51516  82.58061  -72.08993   9.90558  199.62971  18.85382    2001  \n",
       "4  -1.49237  -7.50035   51.76631   7.88713   55.66926  28.74903    2001  \n",
       "5  -0.33730   6.09352   35.18381   5.00283  -11.02257   0.02263    2001  \n",
       "\n",
       "[5 rows x 91 columns]"
      ]
     },
     "execution_count": 8,
     "metadata": {},
     "output_type": "execute_result"
    }
   ],
   "source": [
    "num_columns = song_app.columns.shape[0]\n",
    "columns = list(range(num_columns - 1))\n",
    "columns_name = list(map(str,columns)) + ['labels']\n",
    "song_app.columns = columns_name\n",
    "song_app.head()"
   ]
  },
  {
   "cell_type": "code",
   "execution_count": 9,
   "metadata": {},
   "outputs": [
    {
     "name": "stdout",
     "output_type": "stream",
     "text": [
      "labels size  463715\n",
      "num of labels  89\n",
      "max label  2011.0\n",
      "min label  1922.0\n"
     ]
    }
   ],
   "source": [
    "labels = song_app.values[0:,90]\n",
    "print('labels size ', labels.size)\n",
    "print('num of labels ', len(set(labels)))\n",
    "print('max label ',max(labels))\n",
    "print('min label ',min(labels))"
   ]
  },
  {
   "cell_type": "code",
   "execution_count": 10,
   "metadata": {},
   "outputs": [
    {
     "data": {
      "text/plain": [
       "[(2007.0, 35376),\n",
       " (2006.0, 33824),\n",
       " (2005.0, 31454),\n",
       " (2008.0, 31244),\n",
       " (2009.0, 27907),\n",
       " (2004.0, 26680),\n",
       " (2003.0, 24574),\n",
       " (2002.0, 21291),\n",
       " (2001.0, 19414),\n",
       " (2000.0, 17354),\n",
       " (1999.0, 16358),\n",
       " (1998.0, 14245),\n",
       " (1997.0, 13639),\n",
       " (1996.0, 12669),\n",
       " (1995.0, 11806),\n",
       " (1994.0, 10882),\n",
       " (1993.0, 9562),\n",
       " (1992.0, 8615),\n",
       " (2010.0, 8363),\n",
       " (1991.0, 7751)]"
      ]
     },
     "execution_count": 10,
     "metadata": {},
     "output_type": "execute_result"
    }
   ],
   "source": [
    "import operator\n",
    "# count by label\n",
    "from collections import Counter\n",
    "c = Counter(labels)\n",
    "d = dict(c)\n",
    "sorted_labels_size = sorted(d.items(), key=operator.itemgetter(1), reverse=True)\n",
    "sorted_labels_size[0:20]"
   ]
  },
  {
   "cell_type": "code",
   "execution_count": 13,
   "metadata": {},
   "outputs": [
    {
     "data": {
      "text/plain": [
       "array([ 2001.,  2001.,  2001., ...,  2006.,  2007.,  2007.])"
      ]
     },
     "execution_count": 13,
     "metadata": {},
     "output_type": "execute_result"
    }
   ],
   "source": [
    "x_data = song_app\n",
    "y_data = x_data.values[0:,90]\n",
    "y_data"
   ]
  },
  {
   "cell_type": "code",
   "execution_count": 14,
   "metadata": {
    "collapsed": true
   },
   "outputs": [],
   "source": [
    "x_data.__delitem__('labels')"
   ]
  },
  {
   "cell_type": "code",
   "execution_count": 15,
   "metadata": {},
   "outputs": [
    {
     "data": {
      "text/html": [
       "<div>\n",
       "<style>\n",
       "    .dataframe thead tr:only-child th {\n",
       "        text-align: right;\n",
       "    }\n",
       "\n",
       "    .dataframe thead th {\n",
       "        text-align: left;\n",
       "    }\n",
       "\n",
       "    .dataframe tbody tr th {\n",
       "        vertical-align: top;\n",
       "    }\n",
       "</style>\n",
       "<table border=\"1\" class=\"dataframe\">\n",
       "  <thead>\n",
       "    <tr style=\"text-align: right;\">\n",
       "      <th></th>\n",
       "      <th>0</th>\n",
       "      <th>1</th>\n",
       "      <th>2</th>\n",
       "      <th>3</th>\n",
       "      <th>4</th>\n",
       "      <th>5</th>\n",
       "      <th>6</th>\n",
       "      <th>7</th>\n",
       "      <th>8</th>\n",
       "      <th>9</th>\n",
       "      <th>...</th>\n",
       "      <th>80</th>\n",
       "      <th>81</th>\n",
       "      <th>82</th>\n",
       "      <th>83</th>\n",
       "      <th>84</th>\n",
       "      <th>85</th>\n",
       "      <th>86</th>\n",
       "      <th>87</th>\n",
       "      <th>88</th>\n",
       "      <th>89</th>\n",
       "    </tr>\n",
       "  </thead>\n",
       "  <tbody>\n",
       "    <tr>\n",
       "      <th>1</th>\n",
       "      <td>48.73215</td>\n",
       "      <td>18.42930</td>\n",
       "      <td>70.32679</td>\n",
       "      <td>12.94636</td>\n",
       "      <td>-10.32437</td>\n",
       "      <td>-24.83777</td>\n",
       "      <td>8.76630</td>\n",
       "      <td>-0.92019</td>\n",
       "      <td>18.76548</td>\n",
       "      <td>4.59210</td>\n",
       "      <td>...</td>\n",
       "      <td>5.66812</td>\n",
       "      <td>-19.68073</td>\n",
       "      <td>33.04964</td>\n",
       "      <td>42.87836</td>\n",
       "      <td>-9.90378</td>\n",
       "      <td>-32.22788</td>\n",
       "      <td>70.49388</td>\n",
       "      <td>12.04941</td>\n",
       "      <td>58.43453</td>\n",
       "      <td>26.92061</td>\n",
       "    </tr>\n",
       "    <tr>\n",
       "      <th>2</th>\n",
       "      <td>50.95714</td>\n",
       "      <td>31.85602</td>\n",
       "      <td>55.81851</td>\n",
       "      <td>13.41693</td>\n",
       "      <td>-6.57898</td>\n",
       "      <td>-18.54940</td>\n",
       "      <td>-3.27872</td>\n",
       "      <td>-2.35035</td>\n",
       "      <td>16.07017</td>\n",
       "      <td>1.39518</td>\n",
       "      <td>...</td>\n",
       "      <td>3.03800</td>\n",
       "      <td>26.05866</td>\n",
       "      <td>-50.92779</td>\n",
       "      <td>10.93792</td>\n",
       "      <td>-0.07568</td>\n",
       "      <td>43.20130</td>\n",
       "      <td>-115.00698</td>\n",
       "      <td>-0.05859</td>\n",
       "      <td>39.67068</td>\n",
       "      <td>-0.66345</td>\n",
       "    </tr>\n",
       "    <tr>\n",
       "      <th>3</th>\n",
       "      <td>48.24750</td>\n",
       "      <td>-1.89837</td>\n",
       "      <td>36.29772</td>\n",
       "      <td>2.58776</td>\n",
       "      <td>0.97170</td>\n",
       "      <td>-26.21683</td>\n",
       "      <td>5.05097</td>\n",
       "      <td>-10.34124</td>\n",
       "      <td>3.55005</td>\n",
       "      <td>-6.36304</td>\n",
       "      <td>...</td>\n",
       "      <td>34.57337</td>\n",
       "      <td>-171.70734</td>\n",
       "      <td>-16.96705</td>\n",
       "      <td>-46.67617</td>\n",
       "      <td>-12.51516</td>\n",
       "      <td>82.58061</td>\n",
       "      <td>-72.08993</td>\n",
       "      <td>9.90558</td>\n",
       "      <td>199.62971</td>\n",
       "      <td>18.85382</td>\n",
       "    </tr>\n",
       "    <tr>\n",
       "      <th>4</th>\n",
       "      <td>50.97020</td>\n",
       "      <td>42.20998</td>\n",
       "      <td>67.09964</td>\n",
       "      <td>8.46791</td>\n",
       "      <td>-15.85279</td>\n",
       "      <td>-16.81409</td>\n",
       "      <td>-12.48207</td>\n",
       "      <td>-9.37636</td>\n",
       "      <td>12.63699</td>\n",
       "      <td>0.93609</td>\n",
       "      <td>...</td>\n",
       "      <td>9.92661</td>\n",
       "      <td>-55.95724</td>\n",
       "      <td>64.92712</td>\n",
       "      <td>-17.72522</td>\n",
       "      <td>-1.49237</td>\n",
       "      <td>-7.50035</td>\n",
       "      <td>51.76631</td>\n",
       "      <td>7.88713</td>\n",
       "      <td>55.66926</td>\n",
       "      <td>28.74903</td>\n",
       "    </tr>\n",
       "    <tr>\n",
       "      <th>5</th>\n",
       "      <td>50.54767</td>\n",
       "      <td>0.31568</td>\n",
       "      <td>92.35066</td>\n",
       "      <td>22.38696</td>\n",
       "      <td>-25.51870</td>\n",
       "      <td>-19.04928</td>\n",
       "      <td>20.67345</td>\n",
       "      <td>-5.19943</td>\n",
       "      <td>3.63566</td>\n",
       "      <td>-4.69088</td>\n",
       "      <td>...</td>\n",
       "      <td>6.59753</td>\n",
       "      <td>-50.69577</td>\n",
       "      <td>26.02574</td>\n",
       "      <td>18.94430</td>\n",
       "      <td>-0.33730</td>\n",
       "      <td>6.09352</td>\n",
       "      <td>35.18381</td>\n",
       "      <td>5.00283</td>\n",
       "      <td>-11.02257</td>\n",
       "      <td>0.02263</td>\n",
       "    </tr>\n",
       "  </tbody>\n",
       "</table>\n",
       "<p>5 rows × 90 columns</p>\n",
       "</div>"
      ],
      "text/plain": [
       "          0         1         2         3         4         5         6  \\\n",
       "1  48.73215  18.42930  70.32679  12.94636 -10.32437 -24.83777   8.76630   \n",
       "2  50.95714  31.85602  55.81851  13.41693  -6.57898 -18.54940  -3.27872   \n",
       "3  48.24750  -1.89837  36.29772   2.58776   0.97170 -26.21683   5.05097   \n",
       "4  50.97020  42.20998  67.09964   8.46791 -15.85279 -16.81409 -12.48207   \n",
       "5  50.54767   0.31568  92.35066  22.38696 -25.51870 -19.04928  20.67345   \n",
       "\n",
       "          7         8        9    ...           80         81        82  \\\n",
       "1  -0.92019  18.76548  4.59210    ...      5.66812  -19.68073  33.04964   \n",
       "2  -2.35035  16.07017  1.39518    ...      3.03800   26.05866 -50.92779   \n",
       "3 -10.34124   3.55005 -6.36304    ...     34.57337 -171.70734 -16.96705   \n",
       "4  -9.37636  12.63699  0.93609    ...      9.92661  -55.95724  64.92712   \n",
       "5  -5.19943   3.63566 -4.69088    ...      6.59753  -50.69577  26.02574   \n",
       "\n",
       "         83        84        85         86        87         88        89  \n",
       "1  42.87836  -9.90378 -32.22788   70.49388  12.04941   58.43453  26.92061  \n",
       "2  10.93792  -0.07568  43.20130 -115.00698  -0.05859   39.67068  -0.66345  \n",
       "3 -46.67617 -12.51516  82.58061  -72.08993   9.90558  199.62971  18.85382  \n",
       "4 -17.72522  -1.49237  -7.50035   51.76631   7.88713   55.66926  28.74903  \n",
       "5  18.94430  -0.33730   6.09352   35.18381   5.00283  -11.02257   0.02263  \n",
       "\n",
       "[5 rows x 90 columns]"
      ]
     },
     "execution_count": 15,
     "metadata": {},
     "output_type": "execute_result"
    }
   ],
   "source": [
    "x_data.head()"
   ]
  },
  {
   "cell_type": "code",
   "execution_count": 18,
   "metadata": {},
   "outputs": [
    {
     "data": {
      "image/png": "[encoded data removed]",
      "text/plain": [
       "<matplotlib.figure.Figure at 0x7f6ad9836748>"
      ]
     },
     "metadata": {},
     "output_type": "display_data"
    }
   ],
   "source": [
    "pca = PCA().fit(x_data)\n",
    "plt.plot(np.cumsum(pca.explained_variance_ratio_))\n",
    "plt.xlabel('number of components')\n",
    "plt.ylabel('cumulative explained variance');\n",
    "plt.show()\n",
    "#https://jakevdp.github.io/PythonDataScienceHandbook/05.09-principal-component-analysis.html"
   ]
  },
  {
   "cell_type": "code",
   "execution_count": 19,
   "metadata": {
    "collapsed": true
   },
   "outputs": [],
   "source": [
    "# pca\n",
    "pca = PCA(n_components=50)\n",
    "results_pca = pca.fit_transform(x_data)"
   ]
  },
  {
   "cell_type": "code",
   "execution_count": 20,
   "metadata": {},
   "outputs": [
    {
     "name": "stdout",
     "output_type": "stream",
     "text": [
      "explained variance ratio :  0.993892669998\n"
     ]
    }
   ],
   "source": [
    "print('explained variance ratio : ',sum(pca.explained_variance_ratio_))"
   ]
  },
  {
   "cell_type": "code",
   "execution_count": 21,
   "metadata": {},
   "outputs": [
    {
     "data": {
      "image/png": "[encoded data removed]",
      "text/plain": [
       "<matplotlib.figure.Figure at 0x7f6ad97d4390>"
      ]
     },
     "metadata": {},
     "output_type": "display_data"
    }
   ],
   "source": [
    "plt.semilogy(pca.explained_variance_ratio_, '--o');\n",
    "plt.semilogy(pca.explained_variance_ratio_.cumsum(), '--o');\n",
    "plt.title(\"explained variance ratio (blue) \\n cumulative explained variance ratio (orange)\")\n",
    "plt.show()"
   ]
  },
  {
   "cell_type": "code",
   "execution_count": 22,
   "metadata": {},
   "outputs": [
    {
     "name": "stdout",
     "output_type": "stream",
     "text": [
      "(417343, 90)\n",
      "(46372, 90)\n",
      "(417343,)\n",
      "(46372,)\n"
     ]
    }
   ],
   "source": [
    "# split into training and test data\n",
    "X_train, X_test, y_train, y_test = train_test_split(x_data, y_data, test_size=0.1, random_state=42)\n",
    "print(X_train.shape)\n",
    "print(X_test.shape)\n",
    "print(y_train.shape)\n",
    "print(y_test.shape)"
   ]
  },
  {
   "cell_type": "code",
   "execution_count": 16,
   "metadata": {},
   "outputs": [
    {
     "data": {
      "text/plain": [
       "ExtraTreesClassifier(bootstrap=False, class_weight=None, criterion='gini',\n",
       "           max_depth=None, max_features='auto', max_leaf_nodes=None,\n",
       "           min_impurity_decrease=0.0, min_impurity_split=None,\n",
       "           min_samples_leaf=1, min_samples_split=2,\n",
       "           min_weight_fraction_leaf=0.0, n_estimators=20, n_jobs=1,\n",
       "           oob_score=False, random_state=0, verbose=0, warm_start=False)"
      ]
     },
     "execution_count": 16,
     "metadata": {},
     "output_type": "execute_result"
    }
   ],
   "source": [
    "# Build a forest and compute the feature importances\n",
    "forest = ExtraTreesClassifier(n_estimators=20,\n",
    "                              random_state=0)\n",
    "\n",
    "forest.fit(X_train, y_train)"
   ]
  },
  {
   "cell_type": "code",
   "execution_count": 17,
   "metadata": {},
   "outputs": [
    {
     "name": "stdout",
     "output_type": "stream",
     "text": [
      "Feature ranking:\n",
      "1. feature 0 (0.014649)\n",
      "2. feature 1 (0.012155)\n",
      "3. feature 5 (0.012116)\n",
      "4. feature 2 (0.011791)\n",
      "5. feature 4 (0.011665)\n",
      "6. feature 6 (0.011654)\n",
      "7. feature 3 (0.011558)\n",
      "8. feature 19 (0.011548)\n",
      "9. feature 11 (0.011521)\n",
      "10. feature 9 (0.011498)\n",
      "11. feature 10 (0.011394)\n",
      "12. feature 8 (0.011367)\n",
      "13. feature 40 (0.011323)\n",
      "14. feature 7 (0.011278)\n",
      "15. feature 62 (0.011257)\n",
      "16. feature 12 (0.011185)\n",
      "17. feature 21 (0.011178)\n",
      "18. feature 13 (0.011154)\n",
      "19. feature 56 (0.011152)\n",
      "20. feature 58 (0.011139)\n",
      "21. feature 78 (0.011132)\n",
      "22. feature 39 (0.011131)\n",
      "23. feature 77 (0.011128)\n",
      "24. feature 42 (0.011127)\n",
      "25. feature 30 (0.011109)\n",
      "26. feature 87 (0.011103)\n",
      "27. feature 14 (0.011099)\n",
      "28. feature 52 (0.011099)\n",
      "29. feature 73 (0.011096)\n",
      "30. feature 49 (0.011092)\n",
      "31. feature 66 (0.011085)\n",
      "32. feature 43 (0.011084)\n",
      "33. feature 18 (0.011060)\n",
      "34. feature 27 (0.011060)\n",
      "35. feature 45 (0.011060)\n",
      "36. feature 20 (0.011045)\n",
      "37. feature 81 (0.011043)\n",
      "38. feature 33 (0.011039)\n",
      "39. feature 72 (0.011038)\n",
      "40. feature 84 (0.011023)\n",
      "41. feature 67 (0.011021)\n",
      "42. feature 85 (0.011020)\n",
      "43. feature 53 (0.011016)\n",
      "44. feature 68 (0.011015)\n",
      "45. feature 59 (0.011007)\n",
      "46. feature 60 (0.011002)\n",
      "47. feature 36 (0.010998)\n",
      "48. feature 32 (0.010997)\n",
      "49. feature 82 (0.010996)\n",
      "50. feature 64 (0.010994)\n",
      "51. feature 47 (0.010992)\n",
      "52. feature 37 (0.010991)\n",
      "53. feature 41 (0.010971)\n",
      "54. feature 16 (0.010966)\n",
      "55. feature 17 (0.010963)\n",
      "56. feature 65 (0.010963)\n",
      "57. feature 23 (0.010961)\n",
      "58. feature 31 (0.010960)\n",
      "59. feature 29 (0.010946)\n",
      "60. feature 44 (0.010945)\n",
      "61. feature 22 (0.010945)\n",
      "62. feature 48 (0.010940)\n",
      "63. feature 86 (0.010930)\n",
      "64. feature 51 (0.010929)\n",
      "65. feature 79 (0.010926)\n",
      "66. feature 61 (0.010916)\n",
      "67. feature 83 (0.010914)\n",
      "68. feature 55 (0.010913)\n",
      "69. feature 70 (0.010910)\n",
      "70. feature 57 (0.010909)\n",
      "71. feature 74 (0.010909)\n",
      "72. feature 26 (0.010905)\n",
      "73. feature 38 (0.010904)\n",
      "74. feature 28 (0.010903)\n",
      "75. feature 34 (0.010900)\n",
      "76. feature 15 (0.010899)\n",
      "77. feature 46 (0.010892)\n",
      "78. feature 71 (0.010887)\n",
      "79. feature 50 (0.010865)\n",
      "80. feature 89 (0.010846)\n",
      "81. feature 69 (0.010842)\n",
      "82. feature 25 (0.010830)\n",
      "83. feature 75 (0.010826)\n",
      "84. feature 76 (0.010816)\n",
      "85. feature 63 (0.010801)\n",
      "86. feature 35 (0.010795)\n",
      "87. feature 88 (0.010785)\n",
      "88. feature 54 (0.010766)\n",
      "89. feature 80 (0.010723)\n",
      "90. feature 24 (0.010713)\n"
     ]
    },
    {
     "data": {
      "image/png": "[encoded data removed]",
      "text/plain": [
       "<matplotlib.figure.Figure at 0x7f2a6121c550>"
      ]
     },
     "metadata": {},
     "output_type": "display_data"
    }
   ],
   "source": [
    "importances = forest.feature_importances_\n",
    "std = np.std([tree.feature_importances_ for tree in forest.estimators_],\n",
    "             axis=0)\n",
    "indices = np.argsort(importances)[::-1]\n",
    "\n",
    "# Print the feature ranking\n",
    "print(\"Feature ranking:\")\n",
    "\n",
    "for f in range(X_train.shape[1]):\n",
    "    print(\"%d. feature %d (%f)\" % (f + 1, indices[f], importances[indices[f]]))\n",
    "\n",
    "# Plot the feature importances of the forest\n",
    "plt.figure()\n",
    "plt.title(\"Feature importances\")\n",
    "plt.bar(range(X_train.shape[1]), importances[indices],\n",
    "       color=\"r\", yerr=std[indices], align=\"center\")\n",
    "plt.xticks(range(X_train.shape[1]), indices)\n",
    "plt.xlim([-1, X_train.shape[1]])\n",
    "plt.show()"
   ]
  },
  {
   "cell_type": "code",
   "execution_count": 14,
   "metadata": {
    "collapsed": true
   },
   "outputs": [],
   "source": [
    "X_train.__delitem__('0')"
   ]
  },
  {
   "cell_type": "code",
   "execution_count": 15,
   "metadata": {},
   "outputs": [
    {
     "data": {
      "text/plain": [
       "ExtraTreesClassifier(bootstrap=False, class_weight=None, criterion='gini',\n",
       "           max_depth=None, max_features='auto', max_leaf_nodes=None,\n",
       "           min_impurity_decrease=0.0, min_impurity_split=None,\n",
       "           min_samples_leaf=1, min_samples_split=2,\n",
       "           min_weight_fraction_leaf=0.0, n_estimators=20, n_jobs=1,\n",
       "           oob_score=False, random_state=0, verbose=0, warm_start=False)"
      ]
     },
     "execution_count": 15,
     "metadata": {},
     "output_type": "execute_result"
    }
   ],
   "source": [
    "# Build a forest and compute the feature importances\n",
    "forest = ExtraTreesClassifier(n_estimators=20,\n",
    "                              random_state=0)\n",
    "\n",
    "forest.fit(X_train, y_train)"
   ]
  },
  {
   "cell_type": "code",
   "execution_count": 16,
   "metadata": {},
   "outputs": [
    {
     "name": "stdout",
     "output_type": "stream",
     "text": [
      "Feature ranking:\n",
      "1. feature 4 (0.012487)\n",
      "2. feature 0 (0.012062)\n",
      "3. feature 1 (0.011915)\n",
      "4. feature 5 (0.011907)\n",
      "5. feature 3 (0.011748)\n",
      "6. feature 10 (0.011718)\n",
      "7. feature 2 (0.011661)\n",
      "8. feature 8 (0.011617)\n",
      "9. feature 18 (0.011603)\n",
      "10. feature 7 (0.011578)\n",
      "11. feature 9 (0.011567)\n",
      "12. feature 6 (0.011543)\n",
      "13. feature 61 (0.011538)\n",
      "14. feature 39 (0.011531)\n",
      "15. feature 20 (0.011324)\n",
      "16. feature 76 (0.011321)\n",
      "17. feature 77 (0.011312)\n",
      "18. feature 71 (0.011285)\n",
      "19. feature 81 (0.011280)\n",
      "20. feature 57 (0.011269)\n",
      "21. feature 51 (0.011266)\n",
      "22. feature 44 (0.011258)\n",
      "23. feature 28 (0.011258)\n",
      "24. feature 29 (0.011257)\n",
      "25. feature 86 (0.011246)\n",
      "26. feature 72 (0.011243)\n",
      "27. feature 13 (0.011241)\n",
      "28. feature 65 (0.011236)\n",
      "29. feature 48 (0.011235)\n",
      "30. feature 19 (0.011234)\n",
      "31. feature 84 (0.011232)\n",
      "32. feature 55 (0.011232)\n",
      "33. feature 50 (0.011232)\n",
      "34. feature 11 (0.011227)\n",
      "35. feature 67 (0.011223)\n",
      "36. feature 35 (0.011223)\n",
      "37. feature 38 (0.011220)\n",
      "38. feature 32 (0.011201)\n",
      "39. feature 47 (0.011201)\n",
      "40. feature 58 (0.011194)\n",
      "41. feature 17 (0.011190)\n",
      "42. feature 36 (0.011183)\n",
      "43. feature 31 (0.011182)\n",
      "44. feature 41 (0.011181)\n",
      "45. feature 66 (0.011177)\n",
      "46. feature 80 (0.011176)\n",
      "47. feature 26 (0.011166)\n",
      "48. feature 43 (0.011164)\n",
      "49. feature 59 (0.011164)\n",
      "50. feature 42 (0.011159)\n",
      "51. feature 73 (0.011148)\n",
      "52. feature 46 (0.011146)\n",
      "53. feature 63 (0.011144)\n",
      "54. feature 40 (0.011138)\n",
      "55. feature 22 (0.011136)\n",
      "56. feature 85 (0.011121)\n",
      "57. feature 49 (0.011117)\n",
      "58. feature 60 (0.011110)\n",
      "59. feature 52 (0.011104)\n",
      "60. feature 64 (0.011103)\n",
      "61. feature 12 (0.011096)\n",
      "62. feature 82 (0.011096)\n",
      "63. feature 70 (0.011095)\n",
      "64. feature 34 (0.011095)\n",
      "65. feature 16 (0.011094)\n",
      "66. feature 45 (0.011092)\n",
      "67. feature 83 (0.011088)\n",
      "68. feature 23 (0.011075)\n",
      "69. feature 33 (0.011073)\n",
      "70. feature 21 (0.011070)\n",
      "71. feature 54 (0.011051)\n",
      "72. feature 25 (0.011044)\n",
      "73. feature 15 (0.011043)\n",
      "74. feature 27 (0.011042)\n",
      "75. feature 37 (0.011040)\n",
      "76. feature 62 (0.011040)\n",
      "77. feature 75 (0.011040)\n",
      "78. feature 69 (0.011036)\n",
      "79. feature 24 (0.011035)\n",
      "80. feature 30 (0.011031)\n",
      "81. feature 14 (0.011024)\n",
      "82. feature 68 (0.011022)\n",
      "83. feature 79 (0.011019)\n",
      "84. feature 78 (0.011017)\n",
      "85. feature 56 (0.011012)\n",
      "86. feature 88 (0.010962)\n",
      "87. feature 87 (0.010945)\n",
      "88. feature 74 (0.010905)\n",
      "89. feature 53 (0.010884)\n"
     ]
    },
    {
     "data": {
      "image/png": "[encoded data removed]",
      "text/plain": [
       "<matplotlib.figure.Figure at 0x7fa3c17f8ef0>"
      ]
     },
     "metadata": {},
     "output_type": "display_data"
    }
   ],
   "source": [
    "importances = forest.feature_importances_\n",
    "std = np.std([tree.feature_importances_ for tree in forest.estimators_],\n",
    "             axis=0)\n",
    "indices = np.argsort(importances)[::-1]\n",
    "\n",
    "# Print the feature ranking\n",
    "print(\"Feature ranking:\")\n",
    "\n",
    "for f in range(X_train.shape[1]):\n",
    "    print(\"%d. feature %d (%f)\" % (f + 1, indices[f], importances[indices[f]]))\n",
    "\n",
    "# Plot the feature importances of the forest\n",
    "plt.figure()\n",
    "plt.title(\"Feature importances\")\n",
    "plt.bar(range(X_train.shape[1]), importances[indices],\n",
    "       color=\"r\", yerr=std[indices], align=\"center\")\n",
    "plt.xticks(range(X_train.shape[1]), indices)\n",
    "plt.xlim([-1, X_train.shape[1]])\n",
    "plt.show()"
   ]
  },
  {
   "cell_type": "code",
   "execution_count": null,
   "metadata": {
    "collapsed": true
   },
   "outputs": [],
   "source": [
    "# les features faut pas y toucher ! :D"
   ]
  },
  {
   "cell_type": "code",
   "execution_count": null,
   "metadata": {
    "collapsed": true
   },
   "outputs": [],
   "source": []
  }
 ],
 "metadata": {
  "kernelspec": {
   "display_name": "Python 3",
   "language": "python",
   "name": "python3"
  },
  "language_info": {
   "codemirror_mode": {
    "name": "ipython",
    "version": 3
   },
   "file_extension": ".py",
   "mimetype": "text/x-python",
   "name": "python",
   "nbconvert_exporter": "python",
   "pygments_lexer": "ipython3",
   "version": "3.6.3"
  }
 },
 "nbformat": 4,
 "nbformat_minor": 2
}
